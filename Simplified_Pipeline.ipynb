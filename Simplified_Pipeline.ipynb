{
 "cells": [
  {
   "cell_type": "code",
   "execution_count": 69,
   "outputs": [
    {
     "name": "stdout",
     "output_type": "stream",
     "text": [
      "The autoreload extension is already loaded. To reload it, use:\n",
      "  %reload_ext autoreload\n"
     ]
    }
   ],
   "source": [
    "%load_ext autoreload\n",
    "%autoreload 2"
   ],
   "metadata": {
    "collapsed": false,
    "pycharm": {
     "name": "#%%\n"
    }
   }
  },
  {
   "cell_type": "code",
   "execution_count": 70,
   "metadata": {
    "pycharm": {
     "name": "#%%\n"
    }
   },
   "outputs": [],
   "source": [
    "import os\n",
    "\n",
    "from smart_open import s3\n",
    "from tqdm import tqdm\n",
    "\n",
    "import pipeline\n",
    "import plutil\n",
    "from plutil import DocMeta, ArtMeta"
   ]
  },
  {
   "cell_type": "markdown",
   "source": [
    "## Step 0: Set up pipeline"
   ],
   "metadata": {
    "collapsed": false,
    "pycharm": {
     "name": "#%% md\n"
    }
   }
  },
  {
   "cell_type": "code",
   "execution_count": 128,
   "metadata": {
    "pycharm": {
     "name": "#%%\n"
    }
   },
   "outputs": [
    {
     "name": "stdout",
     "output_type": "stream",
     "text": [
      "Looking for config file ./configs/canadian_jj.conf\n",
      "Full output path: C:/Dropbox/Labor_Contracts_Canada/./analysis/output/analysis/2022-12-jeff-python/\n",
      "Looking for config file ./configs/canadian_jj.conf\n"
     ]
    }
   ],
   "source": [
    "pl = pipeline.Pipeline(\"canadian\", config_fname=\"canadian_jj.conf\", mode=\"s3\",\n",
    "                       lang_list=[\"eng\"], splitter=\"elliott\",\n",
    "                       verbose=True)"
   ]
  },
  {
   "cell_type": "markdown",
   "source": [
    "### Step 0b: Load all the filenames, so we can exclude the non-eng ones"
   ],
   "metadata": {
    "collapsed": false,
    "pycharm": {
     "name": "#%% md\n"
    }
   }
  },
  {
   "cell_type": "code",
   "execution_count": 72,
   "outputs": [
    {
     "name": "stderr",
     "output_type": "stream",
     "text": [
      "2022-12-29 15:03:24,836 : INFO : Found credentials in shared credentials file: ~/.aws/credentials\n"
     ]
    },
    {
     "name": "stdout",
     "output_type": "stream",
     "text": [
      "Loading filenames from cuecon-textlab/home/research/corpora/contracts/canadian/txt/...\n"
     ]
    },
    {
     "name": "stderr",
     "output_type": "stream",
     "text": [
      "44590it [00:13, 3315.33it/s]"
     ]
    },
    {
     "name": "stdout",
     "output_type": "stream",
     "text": [
      "Total files: 44589; files after language filter (['eng']): 35931\n",
      "35931 filenames loaded (0000102a_eng.txt ... 1498101a_eng.txt)\n"
     ]
    },
    {
     "name": "stderr",
     "output_type": "stream",
     "text": [
      "\n"
     ]
    }
   ],
   "source": [
    "pl.init_plaintext_list()"
   ],
   "metadata": {
    "collapsed": false,
    "pycharm": {
     "name": "#%%\n"
    }
   }
  },
  {
   "cell_type": "code",
   "execution_count": 73,
   "outputs": [
    {
     "data": {
      "text/plain": "8658"
     },
     "execution_count": 73,
     "metadata": {},
     "output_type": "execute_result"
    }
   ],
   "source": [
    "len(pl.excluded_fnames)"
   ],
   "metadata": {
    "collapsed": false,
    "pycharm": {
     "name": "#%%\n"
    }
   }
  },
  {
   "cell_type": "code",
   "execution_count": 74,
   "outputs": [
    {
     "data": {
      "text/plain": "('0670408c_fra.txt', '0030904c_fra.txt')"
     },
     "execution_count": 74,
     "metadata": {},
     "output_type": "execute_result"
    }
   ],
   "source": [
    "pl.excluded_fnames[0], pl.excluded_fnames[-1]"
   ],
   "metadata": {
    "collapsed": false,
    "pycharm": {
     "name": "#%%\n"
    }
   }
  },
  {
   "cell_type": "markdown",
   "source": [
    "## Step 1: Split contract text into individual articles\n",
    "\n",
    "Using the regex method or elliott's method"
   ],
   "metadata": {
    "collapsed": false,
    "pycharm": {
     "name": "#%% md\n"
    }
   }
  },
  {
   "cell_type": "code",
   "execution_count": 75,
   "outputs": [
    {
     "name": "stdout",
     "output_type": "stream",
     "text": [
      "C:/Dropbox/Labor_Contracts_Canada/./analysis/output/analysis/2022-12-jeff-python/01_artsplit_elliott_pkl\n"
     ]
    }
   ],
   "source": [
    "# Get the paths to the folders where the pkl and json files should be saved\n",
    "artsplit_pkl_path = pl.get_artsplit_output_path(\"pkl\")\n",
    "print(artsplit_pkl_path)"
   ],
   "metadata": {
    "collapsed": false,
    "pycharm": {
     "name": "#%%\n"
    }
   }
  },
  {
   "cell_type": "code",
   "execution_count": 14,
   "outputs": [],
   "source": [
    "import detect_sections_elliott as dse"
   ],
   "metadata": {
    "collapsed": false,
    "pycharm": {
     "name": "#%%\n"
    }
   }
  },
  {
   "cell_type": "code",
   "execution_count": 15,
   "outputs": [],
   "source": [
    "def split_contract(contract_text, contract_meta):\n",
    "    arts, headers = dse.detect_sections(contract_text)\n",
    "    # Convert to the dict format for compatibility with regex splitter\n",
    "    # It looks like len(headers) is almost always greater than (often\n",
    "    # like double or triple) len(arts). So for now I'm ignoring headers\n",
    "    art_list = []\n",
    "    for i in range(len(arts)):\n",
    "        cur_art_text = arts[i]\n",
    "        cur_art_meta = ArtMeta(contract_meta.contract_id, contract_meta.lang, i)\n",
    "        art_list.append((cur_art_text, cur_art_meta))\n",
    "    return art_list"
   ],
   "metadata": {
    "collapsed": false,
    "pycharm": {
     "name": "#%%\n"
    }
   }
  },
  {
   "cell_type": "code",
   "execution_count": 16,
   "outputs": [],
   "source": [
    "save_json = False"
   ],
   "metadata": {
    "collapsed": false,
    "pycharm": {
     "name": "#%%\n"
    }
   }
  },
  {
   "cell_type": "code",
   "execution_count": 19,
   "outputs": [
    {
     "name": "stderr",
     "output_type": "stream",
     "text": [
      "  0%|          | 20/35931 [00:04<2:00:51,  4.95it/s]\n"
     ]
    }
   ],
   "source": [
    "accept_rule = lambda fname: fname.endswith('_eng.txt')\n",
    "# Include key_limit=16 for debugging\n",
    "bucket_iter = s3.iter_bucket(pl.s3_bucket_name, prefix=pl.s3_bucket_prefix,\n",
    "                             accept_key=accept_rule, workers=16, key_limit=20)\n",
    "for fpath, content in tqdm(bucket_iter, total=pl.get_num_docs()):\n",
    "    fname = os.path.basename(fpath)\n",
    "    # First we get the info from the filename\n",
    "    fname_data = plutil.parse_fname(fname)\n",
    "    contract_prefix = fname_data['prefix']\n",
    "    contract_meta = DocMeta(fname_data['id'], fname_data['lang'])\n",
    "    # Now we process the content\n",
    "    #print(fname, len(content))\n",
    "    contract_text = content.decode('utf-8')\n",
    "    art_list = split_contract(contract_text, contract_meta)\n",
    "    # And save the article list as .pkl (for internal use) and .json\n",
    "    # (for human reading)\n",
    "    pkl_fpath = os.path.join(pl.get_artsplit_output_path(\"pkl\"), f\"{contract_prefix}.pkl\")\n",
    "    plutil.safe_to_pickle(art_list, pkl_fpath)\n",
    "    #print(f\"Saved to {pkl_fpath}\")\n",
    "    if save_json:\n",
    "        json_fpath = os.path.join(pl.get_artsplit_output_path(\"json\"), f\"{contract_prefix}.json\")\n",
    "        plutil.safe_to_json(art_list, json_fpath)"
   ],
   "metadata": {
    "collapsed": false,
    "pycharm": {
     "name": "#%%\n"
    }
   }
  },
  {
   "cell_type": "markdown",
   "metadata": {
    "pycharm": {
     "name": "#%% md\n"
    }
   },
   "source": [
    "## Step 2: Parse the articles using spaCy, resolve coreference"
   ]
  },
  {
   "cell_type": "code",
   "execution_count": 76,
   "outputs": [],
   "source": [
    "#!pip install multiprocessing_logging"
   ],
   "metadata": {
    "collapsed": false,
    "pycharm": {
     "name": "#%%\n"
    }
   }
  },
  {
   "cell_type": "code",
   "execution_count": 77,
   "metadata": {
    "pycharm": {
     "name": "#%%\n"
    }
   },
   "outputs": [],
   "source": [
    "# Python imports\n",
    "import functools\n",
    "import glob\n",
    "import json\n",
    "import logging\n",
    "import os\n",
    "\n",
    "# 3rd party imports\n",
    "import joblib\n",
    "\n",
    "# Local imports\n",
    "import pipeline\n",
    "import plutil"
   ]
  },
  {
   "cell_type": "code",
   "execution_count": 78,
   "metadata": {
    "pycharm": {
     "name": "#%%\n"
    }
   },
   "outputs": [],
   "source": [
    "# Set up logging\n",
    "logger = logging.getLogger()\n",
    "logging.basicConfig(format=\"%(asctime)s : %(levelname)s : %(message)s\", level=logging.INFO)"
   ]
  },
  {
   "cell_type": "code",
   "execution_count": 79,
   "metadata": {
    "pycharm": {
     "name": "#%%\n"
    }
   },
   "outputs": [],
   "source": [
    "# And set it to work with spacy's use of multiprocessing\n",
    "import multiprocessing_logging\n",
    "multiprocessing_logging.install_mp_handler()"
   ]
  },
  {
   "cell_type": "code",
   "execution_count": 80,
   "outputs": [
    {
     "name": "stdout",
     "output_type": "stream",
     "text": [
      "Loading spaCy core model\n"
     ]
    }
   ],
   "source": [
    "nlp_eng = pl.get_spacy_model()"
   ],
   "metadata": {
    "collapsed": false,
    "pycharm": {
     "name": "#%%\n"
    }
   }
  },
  {
   "cell_type": "code",
   "execution_count": 81,
   "metadata": {
    "pycharm": {
     "name": "#%%\n"
    }
   },
   "outputs": [],
   "source": [
    "def stream_art_lists(test_N=None):\n",
    "    \"\"\"\n",
    "\n",
    "    :param test_N:\n",
    "    :return:\n",
    "    \"\"\"\n",
    "    art_data_fpaths = glob.glob(os.path.join(artsplit_pkl_path, \"*.pkl\"))\n",
    "    for fnum, fpath in enumerate(art_data_fpaths):\n",
    "        if test_N is not None and fnum >= test_N:\n",
    "            # We've already yielded the first `test_N` contracts, so terminate\n",
    "            break\n",
    "        # Get the contract info from the fpath\n",
    "        fname = os.path.basename(fpath)\n",
    "        fname_data = plutil.parse_fname(fname)\n",
    "        contract_meta = DocMeta(fname_data['id'], fname_data['lang'])\n",
    "        contract_articles = joblib.load(fpath)\n",
    "        yield contract_articles, contract_meta\n"
   ]
  },
  {
   "cell_type": "code",
   "execution_count": 82,
   "metadata": {
    "pycharm": {
     "name": "#%%\n"
    }
   },
   "outputs": [],
   "source": [
    "#art_data_fpaths = glob.glob(\"../canadian_output/01_artsplit_elliott_json/*.json\")\n",
    "#first_fpath = art_data_fpaths[0]\n",
    "#with open(first_fpath, 'r') as f:\n",
    "#    data = json.load(f)"
   ]
  },
  {
   "cell_type": "code",
   "execution_count": 83,
   "metadata": {
    "pycharm": {
     "name": "#%%\n"
    }
   },
   "outputs": [],
   "source": [
    "def remove_unserializable_results(doc):\n",
    "    doc.user_data = {}\n",
    "    for x in dir(doc._):\n",
    "        if x in ['get', 'set', 'has']: continue\n",
    "        setattr(doc._, x, None)\n",
    "    for token in doc:\n",
    "        for x in dir(token._):\n",
    "            if x in ['get', 'set', 'has']: continue\n",
    "            setattr(token._, x, None)\n",
    "    return doc"
   ]
  },
  {
   "cell_type": "code",
   "execution_count": 84,
   "metadata": {
    "pycharm": {
     "name": "#%%\n"
    }
   },
   "outputs": [],
   "source": [
    "def get_coref_data(doc_obj):\n",
    "    mentions = [\n",
    "        {\n",
    "            \"start\": mention.start_char,\n",
    "            \"end\": mention.end_char,\n",
    "            \"text\": mention.text,\n",
    "            \"resolved\": cluster.main.text,\n",
    "        }\n",
    "        for cluster in doc_obj._.coref_clusters\n",
    "        for mention in cluster.mentions\n",
    "    ]\n",
    "    return mentions"
   ]
  },
  {
   "cell_type": "code",
   "execution_count": 85,
   "metadata": {
    "pycharm": {
     "name": "#%%\n"
    }
   },
   "outputs": [],
   "source": [
    "def transform_texts(nlp, batch_id, batch_tuples, output_dir):\n",
    "    batch_results = []\n",
    "    #print(nlp.pipe_names)\n",
    "    output_fpath = os.path.join(output_dir, f\"{batch_id}.pkl\")\n",
    "    if os.path.isfile(output_fpath):  # return None in case same batch is called again\n",
    "        return None\n",
    "    print(\"Processing batch\", batch_id)\n",
    "    for art_doc, art_meta in nlp.pipe(batch_tuples, as_tuples=True):\n",
    "        # This is the weird part where we now have to change contract_id and art_num\n",
    "        # from being metadata to being attributes of the spacy Doc objects themselves\n",
    "        contract_id = art_meta[\"contract_id\"]\n",
    "        article_num = art_meta[\"article_num\"]\n",
    "        art_doc._.contract_id = contract_id\n",
    "        art_doc._.article_num = article_num\n",
    "        # And now we don't need the meta object anymore, since it's encoded in the Doc itself\n",
    "        # But next we need to get a serializable representation of the detected corefs\n",
    "        art_doc._.coref_list = get_coref_data(art_doc)\n",
    "        # Ok now we can get rid of the original coref attributes that break the data\n",
    "        art_doc = remove_unserializable_results(art_doc)\n",
    "        batch_results.append(art_doc)\n",
    "    # And save the bytes object to file\n",
    "    joblib.dump(batch_results, output_fpath)\n",
    "    print(f\"Saved {len(batch_tuples)} texts to {output_fpath}\")"
   ]
  },
  {
   "cell_type": "code",
   "execution_count": 86,
   "outputs": [],
   "source": [
    "def spacy_parse_article(nlp, art_str):\n",
    "    art_doc = nlp(art_str)\n",
    "    ## But next we need to get a serializable representation of the detected corefs\n",
    "    #art_doc._.coref_list = get_coref_data(art_doc)\n",
    "    ## Ok now we can get rid of the original coref attributes that break the data\n",
    "    #art_doc = remove_unserializable_results(art_doc)\n",
    "    return art_doc"
   ],
   "metadata": {
    "collapsed": false,
    "pycharm": {
     "name": "#%%\n"
    }
   }
  },
  {
   "cell_type": "code",
   "execution_count": 87,
   "outputs": [
    {
     "name": "stderr",
     "output_type": "stream",
     "text": [
      "20it [00:00, 3396.06it/s]"
     ]
    },
    {
     "name": "stdout",
     "output_type": "stream",
     "text": [
      "Parse already exists: C:/Dropbox/Labor_Contracts_Canada/./analysis/output/analysis/2022-12-jeff-python/02_spacy_pkl\\0000102a_eng.pkl\n",
      "Parse already exists: C:/Dropbox/Labor_Contracts_Canada/./analysis/output/analysis/2022-12-jeff-python/02_spacy_pkl\\0000103a_eng.pkl\n",
      "Parse already exists: C:/Dropbox/Labor_Contracts_Canada/./analysis/output/analysis/2022-12-jeff-python/02_spacy_pkl\\0000104a_eng.pkl\n",
      "Parse already exists: C:/Dropbox/Labor_Contracts_Canada/./analysis/output/analysis/2022-12-jeff-python/02_spacy_pkl\\0000105a_eng.pkl\n",
      "Parse already exists: C:/Dropbox/Labor_Contracts_Canada/./analysis/output/analysis/2022-12-jeff-python/02_spacy_pkl\\0000106a_eng.pkl\n",
      "Parse already exists: C:/Dropbox/Labor_Contracts_Canada/./analysis/output/analysis/2022-12-jeff-python/02_spacy_pkl\\0000201a_eng.pkl\n",
      "Parse already exists: C:/Dropbox/Labor_Contracts_Canada/./analysis/output/analysis/2022-12-jeff-python/02_spacy_pkl\\0000202a_eng.pkl\n",
      "Parse already exists: C:/Dropbox/Labor_Contracts_Canada/./analysis/output/analysis/2022-12-jeff-python/02_spacy_pkl\\0000203a_eng.pkl\n",
      "Parse already exists: C:/Dropbox/Labor_Contracts_Canada/./analysis/output/analysis/2022-12-jeff-python/02_spacy_pkl\\0000204a_eng.pkl\n",
      "Parse already exists: C:/Dropbox/Labor_Contracts_Canada/./analysis/output/analysis/2022-12-jeff-python/02_spacy_pkl\\0000205a_eng.pkl\n",
      "Parse already exists: C:/Dropbox/Labor_Contracts_Canada/./analysis/output/analysis/2022-12-jeff-python/02_spacy_pkl\\0000206a_eng.pkl\n",
      "Parse already exists: C:/Dropbox/Labor_Contracts_Canada/./analysis/output/analysis/2022-12-jeff-python/02_spacy_pkl\\0003303a_eng.pkl\n",
      "Parse already exists: C:/Dropbox/Labor_Contracts_Canada/./analysis/output/analysis/2022-12-jeff-python/02_spacy_pkl\\0003304a_eng.pkl\n",
      "Parse already exists: C:/Dropbox/Labor_Contracts_Canada/./analysis/output/analysis/2022-12-jeff-python/02_spacy_pkl\\0003305a_eng.pkl\n",
      "Parse already exists: C:/Dropbox/Labor_Contracts_Canada/./analysis/output/analysis/2022-12-jeff-python/02_spacy_pkl\\0003306a_eng.pkl\n",
      "Parse already exists: C:/Dropbox/Labor_Contracts_Canada/./analysis/output/analysis/2022-12-jeff-python/02_spacy_pkl\\0003307a_eng.pkl\n",
      "Parse already exists: C:/Dropbox/Labor_Contracts_Canada/./analysis/output/analysis/2022-12-jeff-python/02_spacy_pkl\\0003308a_eng.pkl\n",
      "Parse already exists: C:/Dropbox/Labor_Contracts_Canada/./analysis/output/analysis/2022-12-jeff-python/02_spacy_pkl\\0003402a_eng.pkl\n",
      "Parse already exists: C:/Dropbox/Labor_Contracts_Canada/./analysis/output/analysis/2022-12-jeff-python/02_spacy_pkl\\0003404a_eng.pkl\n",
      "Parse already exists: C:/Dropbox/Labor_Contracts_Canada/./analysis/output/analysis/2022-12-jeff-python/02_spacy_pkl\\0003405a_eng.pkl\n"
     ]
    },
    {
     "name": "stderr",
     "output_type": "stream",
     "text": [
      "\n"
     ]
    }
   ],
   "source": [
    "spacy_output_path = pl.get_spacy_output_path()\n",
    "contract_iter = tqdm(stream_art_lists())\n",
    "for art_list, contract_meta in contract_iter:\n",
    "    contract_id = contract_meta.get_contract_id()\n",
    "    contract_fname = contract_meta.gen_fname(\"pkl\")\n",
    "    output_fpath = os.path.join(spacy_output_path, contract_fname)\n",
    "    # Check if it's already been processed\n",
    "    if os.path.isfile(output_fpath):\n",
    "        pl.vprint(f\"Parse already exists: {output_fpath}\")\n",
    "        continue\n",
    "    contract_art_list = []\n",
    "    #print(contract_data)\n",
    "    #print(f\"Processing contract {contract_id}\")\n",
    "    num_arts = len(art_list)\n",
    "    contract_iter.set_description(f\"{contract_id} ({num_arts} articles)\")\n",
    "    #pl.vprint(f\"Parsing {len(art_list)} articles\")\n",
    "    for cur_art_text, cur_art_meta in art_list:\n",
    "        cur_art_doc = spacy_parse_article(nlp_eng, cur_art_text)\n",
    "        contract_art_list.append((cur_art_doc, cur_art_meta))\n",
    "    #print(cur_art_doc)\n",
    "    # Save the contract docs\n",
    "    plutil.safe_to_pickle(contract_art_list, output_fpath)"
   ],
   "metadata": {
    "collapsed": false,
    "pycharm": {
     "name": "#%%\n"
    }
   }
  },
  {
   "cell_type": "markdown",
   "source": [
    "## Step 3: Extract the spaCy dependency parse data (to csv format)"
   ],
   "metadata": {
    "collapsed": false,
    "pycharm": {
     "name": "#%% md\n"
    }
   }
  },
  {
   "cell_type": "code",
   "execution_count": 88,
   "outputs": [],
   "source": [
    "from collections import Counter\n",
    "import glob\n",
    "\n",
    "import joblib\n",
    "import pandas as pd\n",
    "\n",
    "import process_spacy as pspacy\n",
    "import plutil\n",
    "from plutil import DocMeta, ArtMeta"
   ],
   "metadata": {
    "collapsed": false,
    "pycharm": {
     "name": "#%%\n"
    }
   }
  },
  {
   "cell_type": "code",
   "execution_count": 89,
   "outputs": [],
   "source": [
    "nlp_eng = pl.get_spacy_model()"
   ],
   "metadata": {
    "collapsed": false,
    "pycharm": {
     "name": "#%%\n"
    }
   }
  },
  {
   "cell_type": "markdown",
   "source": [
    "### Step 3.1: First extract the statement data (sdata)"
   ],
   "metadata": {
    "collapsed": false,
    "pycharm": {
     "name": "#%% md\n"
    }
   }
  },
  {
   "cell_type": "code",
   "execution_count": 90,
   "outputs": [],
   "source": [
    "def get_num_contract_parses(verbose=False):\n",
    "    vprint = print if verbose else lambda x: None\n",
    "    spacy_fpaths = glob.glob(os.path.join(spacy_output_path, \"*.pkl\"))\n",
    "    num_fpaths = len(spacy_fpaths)\n",
    "    vprint(f\"Found {num_fpaths} files in spacy output path: {spacy_output_path}\")\n",
    "    return num_fpaths\n",
    "\n",
    "def stream_contract_parses():\n",
    "    spacy_fpaths = glob.glob(os.path.join(spacy_output_path, \"*.pkl\"))\n",
    "    for cur_fpath in spacy_fpaths:\n",
    "        fname = os.path.basename(cur_fpath)\n",
    "        fname_data = plutil.parse_fname(fname)\n",
    "        contract_id = fname_data['id']\n",
    "        contract_lang = fname_data['lang']\n",
    "        contract_meta = DocMeta(contract_id, contract_lang)\n",
    "        # A list where each element is the spaCy parse of one article within the contract\n",
    "        cur_art_parse_list = joblib.load(cur_fpath)\n",
    "        yield cur_art_parse_list, contract_meta\n",
    "\n",
    "def save_pdata_df(pdata_df, chunk_num=None):\n",
    "    suffix = \"\"\n",
    "    if chunk_num:\n",
    "        suffix = f\"_{str(chunk_num)}\"\n",
    "    pdata_fpath = os.path.join(pl.get_pdata_path(), f\"{pl.get_corpus_name()}_pdata{suffix}.pkl\")\n",
    "    plutil.safe_to_pickle(pdata_df, pdata_fpath)"
   ],
   "metadata": {
    "collapsed": false,
    "pycharm": {
     "name": "#%%\n"
    }
   }
  },
  {
   "cell_type": "code",
   "execution_count": 91,
   "outputs": [
    {
     "name": "stdout",
     "output_type": "stream",
     "text": [
      "Found 20 files in spacy output path: C:/Dropbox/Labor_Contracts_Canada/./analysis/output/analysis/2022-12-jeff-python/02_spacy_pkl\n"
     ]
    },
    {
     "name": "stderr",
     "output_type": "stream",
     "text": [
      "100%|██████████| 20/20 [00:55<00:00,  2.78s/it]\n"
     ]
    }
   ],
   "source": [
    "num_parses = get_num_contract_parses(verbose=True)\n",
    "for cur_contract_data in tqdm(stream_contract_parses(), total=num_parses):\n",
    "    cur_contract_parses = cur_contract_data[0]\n",
    "    cur_contract_meta = cur_contract_data[1]\n",
    "    cur_contract_id = cur_contract_meta.contract_id\n",
    "    # A list of statements across the entire contract\n",
    "    contract_statements = []\n",
    "    # The generator gives a list of parses, so run get_statements() on each item\n",
    "    for cur_art_data in cur_contract_parses:\n",
    "        #print(cur_art_data)\n",
    "        cur_art_parse = cur_art_data[0]\n",
    "        cur_art_meta = cur_art_data[1]\n",
    "        cur_art_statements = pspacy.get_statements(cur_art_parse, cur_contract_id, cur_art_meta.art_num)\n",
    "        contract_statements.extend(cur_art_statements)\n",
    "    # Now serialize\n",
    "    output_fname = cur_contract_meta.gen_fname(\"pkl\")\n",
    "    output_fpath = os.path.join(pl.get_sdata_output_path(), output_fname)\n",
    "    plutil.safe_to_pickle(contract_statements, output_fpath)"
   ],
   "metadata": {
    "collapsed": false,
    "pycharm": {
     "name": "#%%\n"
    }
   }
  },
  {
   "cell_type": "code",
   "execution_count": 92,
   "outputs": [],
   "source": [
    "# Check an example sdata file\n",
    "sdata_fpath = glob.glob(os.path.join(pl.get_sdata_output_path(), \"*\"))[0]\n",
    "sdata = plutil.safe_load_pickle(sdata_fpath)"
   ],
   "metadata": {
    "collapsed": false,
    "pycharm": {
     "name": "#%%\n"
    }
   }
  },
  {
   "cell_type": "code",
   "execution_count": 93,
   "outputs": [
    {
     "data": {
      "text/plain": "list"
     },
     "execution_count": 93,
     "metadata": {},
     "output_type": "execute_result"
    }
   ],
   "source": [
    "type(sdata)"
   ],
   "metadata": {
    "collapsed": false,
    "pycharm": {
     "name": "#%%\n"
    }
   }
  },
  {
   "cell_type": "code",
   "execution_count": 94,
   "outputs": [
    {
     "data": {
      "text/plain": "978"
     },
     "execution_count": 94,
     "metadata": {},
     "output_type": "execute_result"
    }
   ],
   "source": [
    "len(sdata)"
   ],
   "metadata": {
    "collapsed": false,
    "pycharm": {
     "name": "#%%\n"
    }
   }
  },
  {
   "cell_type": "code",
   "execution_count": 95,
   "outputs": [
    {
     "data": {
      "text/plain": "dict"
     },
     "execution_count": 95,
     "metadata": {},
     "output_type": "execute_result"
    }
   ],
   "source": [
    "type(sdata[0])"
   ],
   "metadata": {
    "collapsed": false,
    "pycharm": {
     "name": "#%%\n"
    }
   }
  },
  {
   "cell_type": "code",
   "execution_count": 96,
   "outputs": [
    {
     "data": {
      "text/plain": "21"
     },
     "execution_count": 96,
     "metadata": {},
     "output_type": "execute_result"
    }
   ],
   "source": [
    "len(sdata[0])"
   ],
   "metadata": {
    "collapsed": false,
    "pycharm": {
     "name": "#%%\n"
    }
   }
  },
  {
   "cell_type": "code",
   "execution_count": 97,
   "outputs": [
    {
     "data": {
      "text/plain": "{'orig_subject': 'It',\n 'orig_slem': 'it',\n 'in_coref': False,\n 'subject': 'It',\n 'slem': 'it',\n 'coref_replaced': False,\n 'modal': None,\n 'neg': '',\n 'verb': 'be',\n 'passive': 0,\n 'md': 0,\n 'subject_branch': ['it',\n  'the',\n  'rate',\n  'of',\n  'pay',\n  'and',\n  'all',\n  'other',\n  'item',\n  'that',\n  'both',\n  'party',\n  'have',\n  'agree',\n  'to',\n  'through',\n  'the',\n  'process',\n  'of',\n  'collective',\n  'bargaining'],\n 'subject_tags': ['PRP',\n  'DT',\n  'NNS',\n  'IN',\n  'NN',\n  'CC',\n  'DT',\n  'JJ',\n  'NNS',\n  'WDT',\n  'DT',\n  'NNS',\n  'VBP',\n  'VBN',\n  'TO',\n  'IN',\n  'DT',\n  'NN',\n  'IN',\n  'JJ',\n  'NN'],\n 'object_branches': [['the', 'general', 'purpose', 'of', 'this', 'agreement'],\n  ['to',\n   'set',\n   'forth',\n   'the',\n   'working',\n   'condition',\n   'living',\n   'condition',\n   'within',\n   'the',\n   'power',\n   'and/or',\n   'ability',\n   'of',\n   'the',\n   'employers',\n   'to',\n   'control',\n   'the',\n   'hour',\n   'of',\n   'work']],\n 'object_tags': [['DT', 'JJ', 'NN', 'IN', 'DT', 'NNP'],\n  ['TO',\n   'VB',\n   'RP',\n   'DT',\n   'NN',\n   'NNS',\n   'NN',\n   'NNS',\n   'IN',\n   'DT',\n   'NN',\n   'CC',\n   'NN',\n   'IN',\n   'DT',\n   'NNPS',\n   'TO',\n   'VB',\n   'DT',\n   'NNS',\n   'IN',\n   'NN']],\n 'full_statement': '',\n 'contract_id': '0000102a',\n 'article_num': 0,\n 'sentence_num': 2,\n 'statement_num': 0,\n 'full_sentence': '1.Ol - It is the general purpose of this Agreement to set forth the working conditions, living conditions within the power and/or ability of the Employers to control the hours of work, the rates of pay and all other items that both parties have agreed to through the process of collective bargaining.'}"
     },
     "execution_count": 97,
     "metadata": {},
     "output_type": "execute_result"
    }
   ],
   "source": [
    "sdata[0]"
   ],
   "metadata": {
    "collapsed": false,
    "pycharm": {
     "name": "#%%\n"
    }
   }
  },
  {
   "cell_type": "markdown",
   "source": [
    "### Step 3.2: Extract the parse data (pdata) for each statement (from its sdata)"
   ],
   "metadata": {
    "collapsed": false,
    "pycharm": {
     "name": "#%% md\n"
    }
   }
  },
  {
   "cell_type": "code",
   "execution_count": 98,
   "outputs": [],
   "source": [
    "from collections import Counter\n",
    "\n",
    "import joblib\n",
    "import pandas as pd\n",
    "\n",
    "import plutil"
   ],
   "metadata": {
    "collapsed": false,
    "pycharm": {
     "name": "#%%\n"
    }
   }
  },
  {
   "cell_type": "code",
   "execution_count": 99,
   "outputs": [
    {
     "name": "stdout",
     "output_type": "stream",
     "text": [
      "Starting extract_pdata()\n"
     ]
    }
   ],
   "source": [
    "pl.vprint(\"Starting extract_pdata()\")\n",
    "pdata_path = pl.get_pdata_output_path()\n",
    "subject_counts = Counter()\n",
    "subnoun_counts = Counter()\n",
    "modal_counts = Counter()"
   ],
   "metadata": {
    "collapsed": false,
    "pycharm": {
     "name": "#%%\n"
    }
   }
  },
  {
   "cell_type": "code",
   "execution_count": 100,
   "outputs": [],
   "source": [
    "def stream_sdata():\n",
    "    sdata_path = pl.get_sdata_output_path()\n",
    "    sdata_fpaths = glob.glob(os.path.join(sdata_path, \"*.pkl\"))\n",
    "    for cur_fpath in sdata_fpaths:\n",
    "        cur_fname = os.path.basename(cur_fpath)\n",
    "        fname_data = plutil.parse_fname(cur_fname)\n",
    "        contract_id = fname_data['id']\n",
    "        contract_lang = fname_data['lang']\n",
    "        contract_meta = DocMeta(contract_id, contract_lang)\n",
    "        # A list where each element is the data for a statement in the contract\n",
    "        contract_sdata = joblib.load(cur_fpath)\n",
    "        yield contract_sdata, contract_meta"
   ],
   "metadata": {
    "collapsed": false,
    "pycharm": {
     "name": "#%%\n"
    }
   }
  },
  {
   "cell_type": "code",
   "execution_count": 101,
   "outputs": [
    {
     "name": "stderr",
     "output_type": "stream",
     "text": [
      "0003405a:   0%|          | 20/35931 [00:02<1:07:48,  8.83it/s]"
     ]
    },
    {
     "name": "stdout",
     "output_type": "stream",
     "text": [
      "Most common subjects:\n",
      "[('employee', 1289), ('who', 969), ('he', 961), ('Company', 752), ('i', 636), ('it', 394), ('It', 380), ('employees', 377), ('Employer', 273), ('Employees', 209), ('they', 183), ('time', 174), ('which', 173), ('that', 132), ('there', 128), ('l', 109), ('hours', 105), ('seniority', 102), ('work', 97), ('Union', 91), ('grievance', 88), ('rate', 83), ('party', 68), ('Plan', 68), ('tools', 67), ('days', 66), ('shift', 65), ('period', 64), ('amount', 63), ('matter', 61), ('decision', 55), ('schedule', 54), ('provisions', 52), ('I', 50), ('leave', 49), ('operations', 49), ('Seniority', 49), ('notice', 48), ('arrangements', 47), ('day', 47), ('week', 46), ('t', 46), ('There', 46), ('s', 44), ('holidays', 44), ('change', 42), ('payment', 42), ('list', 41), ('Time', 38), ('rates', 38)]\n"
     ]
    },
    {
     "name": "stderr",
     "output_type": "stream",
     "text": [
      "\n"
     ]
    }
   ],
   "source": [
    "# Loop over the items, getting counts but also producing a .csv where each\n",
    "# row is a statement\n",
    "# Num to process is just num_contracts\n",
    "num_to_process = pl.get_num_docs()\n",
    "sdata_iter = tqdm(stream_sdata(), total=num_to_process)\n",
    "for doc_sdata, doc_meta in sdata_iter:\n",
    "    contract_id = doc_meta.contract_id\n",
    "    contract_lang = doc_meta.lang\n",
    "    sdata_iter.set_description(contract_id)\n",
    "    doc_pdata = []\n",
    "    # Loop over each statement, getting the subject/subject_branch/subject_tag\n",
    "    for statement_data in doc_sdata:\n",
    "        subject = statement_data['subject']\n",
    "        statement_dict = {\n",
    "            'contract_id':contract_id,\n",
    "            'article_num':statement_data['article_num'],\n",
    "            'sentence_num':statement_data['sentence_num'],\n",
    "            'statement_num':statement_data['statement_num'],\n",
    "            'full_sentence':statement_data['full_sentence'],\n",
    "            'full_statement':statement_data['full_statement'],\n",
    "            'subject':statement_data['subject'],\n",
    "            'passive':statement_data['passive'],\n",
    "            'subject_tags':statement_data['subject_tags'],\n",
    "            'subject_branch':statement_data['subject_branch'],\n",
    "            'object_tags':statement_data['object_tags'],\n",
    "            'verb':statement_data['verb'],\n",
    "            'modal':statement_data['modal'],\n",
    "            'md':statement_data['md'],\n",
    "            'neg':statement_data['neg'],\n",
    "            'object_branches':statement_data['object_branches']\n",
    "        }\n",
    "        doc_pdata.append(statement_dict)\n",
    "        subnouns = sorted([subject_branch\n",
    "                           for subject_branch, subject_tag\n",
    "                           in zip(statement_data['subject_branch'], statement_data['subject_tags'])\n",
    "                           if subject_tag.startswith('N')])\n",
    "        subject_counts[subject] += 1\n",
    "        if statement_data['md'] == 1:\n",
    "            modal_counts[subject] += 1\n",
    "        for x in subnouns:\n",
    "            if x != subject:\n",
    "                subnoun_counts[x] += 1\n",
    "    # Print a message and save the contract pdata\n",
    "    #pl.vprint(f\"Saving sdata for contract {contract_id}\")\n",
    "    pdata_df = pd.DataFrame(doc_pdata)\n",
    "    pdata_fpath = os.path.join(pdata_path, f\"{contract_id}_{contract_lang}.pkl\")\n",
    "    plutil.safe_to_pickle(pdata_df, pdata_fpath)\n",
    "sub_counts_fpath = os.path.join(pl.get_output_path(), f\"{pl.get_corpus_name()}_subject_counts.pkl\")\n",
    "pd.to_pickle(subject_counts, sub_counts_fpath)\n",
    "modal_counts_fpath = os.path.join(pl.get_output_path(), f\"{pl.get_corpus_name()}_modal_counts.pkl\")\n",
    "pd.to_pickle(modal_counts, modal_counts_fpath)\n",
    "\n",
    "print(\"Most common subjects:\")\n",
    "print(subject_counts.most_common()[:50])"
   ],
   "metadata": {
    "collapsed": false,
    "pycharm": {
     "name": "#%%\n"
    }
   }
  },
  {
   "cell_type": "markdown",
   "source": [
    "## Step 4: Compute authority measures"
   ],
   "metadata": {
    "collapsed": false,
    "pycharm": {
     "name": "#%% md\n"
    }
   }
  },
  {
   "cell_type": "code",
   "execution_count": 102,
   "outputs": [],
   "source": [
    "import glob\n",
    "\n",
    "import inflect\n",
    "import unidecode\n",
    "\n",
    "import plutil"
   ],
   "metadata": {
    "collapsed": false,
    "pycharm": {
     "name": "#%%\n"
    }
   }
  },
  {
   "cell_type": "code",
   "execution_count": 110,
   "outputs": [],
   "source": [
    "# Set to \"contract\" for contract-by-contract parsing. Otherwise, set to \"batch\"\n",
    "# to process the statements in batches (runs faster)\n",
    "batch_mode = \"contract\"\n",
    "#batch_mode = \"batch\""
   ],
   "metadata": {
    "collapsed": false,
    "pycharm": {
     "name": "#%%\n"
    }
   }
  },
  {
   "cell_type": "code",
   "execution_count": 111,
   "outputs": [],
   "source": [
    "subject_dict = {\n",
    "    'other':0,'worker':1,'union':2,'firm':3,'manager':4\n",
    "}\n",
    "# And make it reversible\n",
    "for k, v in subject_dict.copy().items():\n",
    "    subject_dict[v] = k\n",
    "\n",
    "snpdata_header = [\n",
    "    \"contract_id\",\"section_num\",\"sentence_num\",\"statement_num\",\"md\",\n",
    "    \"strict_modal\",\"neg\",\"passive\",\"verb\",\"object_branches\",\"full_sentence\"\n",
    "]"
   ],
   "metadata": {
    "collapsed": false,
    "pycharm": {
     "name": "#%%\n"
    }
   }
  },
  {
   "cell_type": "code",
   "execution_count": 112,
   "outputs": [],
   "source": [
    "def stream_pdata():\n",
    "    pdata_path = pl.get_pdata_output_path()\n",
    "    pdata_fpaths = glob.glob(os.path.join(pdata_path, \"*.pkl\"))\n",
    "    for cur_pdata_fpath in pdata_fpaths:\n",
    "        # Get info from the fpath itself\n",
    "        cur_fname = os.path.basename(cur_pdata_fpath)\n",
    "        fname_info = plutil.parse_fname(cur_fname)\n",
    "        contract_id = fname_info['id']\n",
    "        contract_lang = fname_info['lang']\n",
    "        cur_contract_meta = DocMeta(contract_id, contract_lang)\n",
    "        cur_pdata_df = plutil.safe_load_pickle(cur_pdata_fpath)\n",
    "        yield cur_pdata_df, cur_contract_meta"
   ],
   "metadata": {
    "collapsed": false,
    "pycharm": {
     "name": "#%%\n"
    }
   }
  },
  {
   "cell_type": "code",
   "execution_count": 113,
   "outputs": [],
   "source": [
    "def check_neg(statement_row):\n",
    "    return statement_row['neg'] == 'not'\n",
    "\n",
    "def check_strict_modal(statement_row):\n",
    "    strict_modal = False\n",
    "    if statement_row['md']:\n",
    "        strict_modal = statement_row['modal'] in ['shall','must','will']\n",
    "    return strict_modal"
   ],
   "metadata": {
    "collapsed": false,
    "pycharm": {
     "name": "#%%\n"
    }
   }
  },
  {
   "cell_type": "code",
   "execution_count": 114,
   "outputs": [],
   "source": [
    "def compute_statement_auth(contract_meta, contract_pdata_df, use_tqdm=False):\n",
    "    disable_tqdm = not use_tqdm\n",
    "    #pl.vprint(f\"starting compute_statement_auth()\")\n",
    "    vars_to_keep = [\n",
    "        \"contract_id\",\"article_num\",\"sentence_num\",\"statement_num\",\n",
    "        \"subject\",\"modal\",\"md\",\"neg\",\"verb\",\"passive\",\"full_sentence\"\n",
    "    ]\n",
    "    ### Soo after this we're grabbing stuff out of auth_df A LOT.\n",
    "    ### so I'm renaming it to just df\n",
    "    df = contract_pdata_df[vars_to_keep].copy()\n",
    "    # We can save memory by converting some of the ints to bools\n",
    "    df[\"md\"] = df[\"md\"].astype('bool')\n",
    "    df[\"passive\"] = df[\"passive\"].astype('bool')\n",
    "    df[\"subject\"] = df[\"subject\"].str.lower()\n",
    "    df[\"subnorm\"] = df[\"subject\"].apply(pl.normalize_subject)\n",
    "    # Strict modal check. axis=1 means apply row-by-row\n",
    "    df[\"strict_modal\"] = df.apply(check_strict_modal, axis=1).astype('bool')\n",
    "    df[\"neg\"] = df['neg'].apply(lambda x: x == 'not').astype('bool')\n",
    "    auth_progress = tqdm(total=12) if use_tqdm else lambda x: None\n",
    "    with tqdm(total=12, disable=disable_tqdm) as pbar:\n",
    "        df['count'] = 1\n",
    "        ##### (1/12) Permissive modals are may and can\n",
    "        df['permissive_modal'] = (df['md'] & ~df['strict_modal']).astype('bool')\n",
    "        pbar.update(1)\n",
    "        ##### (2/12) Obligation verbs\n",
    "        df_passive = df['passive']\n",
    "        df['obligation_verb'] = (df_passive &\n",
    "                                 df['verb'].isin(['require', 'expect', 'compel', 'oblige', 'obligate'])).astype('bool')\n",
    "        pbar.update(1)\n",
    "        ##### (3/12) Constraint verbs\n",
    "        df['constraint_verb'] = (df_passive &\n",
    "                                 df['verb'].isin(['prohibit', 'forbid', 'ban', 'bar', 'restrict', 'proscribe'])).astype('bool')\n",
    "        pbar.update(1)\n",
    "        ##### (4/12) Permission verbs are: be allowed, be permitted, and be authorized\n",
    "        df['permission_verb'] =  (df_passive &\n",
    "                                  df['verb'].isin(['allow', 'permit', 'authorize'])).astype('bool')\n",
    "        pbar.update(1)\n",
    "        ##### (5/12) Entitlement verbs\n",
    "        df_notpassive = ~df_passive\n",
    "        df['entitlement_verb'] =  (df_notpassive &\n",
    "                                   df['verb'].isin(['have', 'receive','retain'])).astype('bool')\n",
    "        pbar.update(1)\n",
    "        ##### (6/12) Promise verbs\n",
    "        df['promise_verb'] = (df_notpassive &\n",
    "                              df['verb'].isin(['agree','promise','commit','recognize',\n",
    "                                               'consent','assent','affirm','assure',\n",
    "                                               'guarantee','insure','ensure','stipulate',\n",
    "                                               'undertake','pledge'])).astype('bool')\n",
    "        pbar.update(1)\n",
    "        #pl.dprint(\"Computed up to promise_verb\")\n",
    "        ##### (7/12) Special verbs\n",
    "        df['special_verb'] = (df['obligation_verb'] | df['constraint_verb'] | df['permission_verb'] | df['entitlement_verb'] | df['promise_verb']).astype('bool')\n",
    "        pbar.update(1)\n",
    "        ##### (8/12) Active verbs\n",
    "        df['active_verb'] = (df_notpassive & ~df['special_verb']).astype('bool')\n",
    "        pbar.update(1)\n",
    "        #df['verb_type'] = 0 + 1 *df['passive'] + 2*df['obligation_verb'] + 3*df['constraint_verb'] + 4*df['permission_verb'] + 5*df['entitlement_verb']\n",
    "        ##### (9/12) Obligation verbs\n",
    "        df_neg = df['neg']\n",
    "        df_notneg = ~df_neg\n",
    "        df['obligation'] = ((df_notneg & df['strict_modal'] & df['active_verb']) |     #positive, strict modal, action verb\n",
    "                            (df_notneg & df['strict_modal'] & df['obligation_verb']) | #positive, strict modal, obligation verb\n",
    "                            (df_notneg & ~df['md'] & df['obligation_verb'])).astype('bool') #positive, non-modal, obligation verb\n",
    "        pbar.update(1)\n",
    "        ##### (10/12) Constraint verbs\n",
    "        df['constraint'] = ((df_neg & df['md'] & ~df['obligation_verb']) | # negative, any modal, any verb except obligation verb\n",
    "                            (df_notneg & df['strict_modal'] & df['constraint_verb'])).astype('bool') # positive, strict modal, constraint verb\n",
    "        pbar.update(1)\n",
    "        ##### (11/12) Permission verbs\n",
    "        df['permission'] = ((df_notneg & ( (df['permissive_modal'] & df['active_verb']) |\n",
    "                                           df['permission_verb'])) |\n",
    "                            (df['neg'] & df['constraint_verb'])).astype('bool')\n",
    "        pbar.update(1)\n",
    "        ##### (12/12) Entitlement verbs\n",
    "        df['entitlement'] = ((df_notneg & df['entitlement_verb']) |\n",
    "                             (df_notneg & df['strict_modal'] & df['passive']) |\n",
    "                             (df_neg & df['obligation_verb'])).astype('bool')\n",
    "        pbar.update(1)\n",
    "    #pl.vprint(\"Authority measures computed.\")\n",
    "    sauth_path = pl.get_sauth_output_path()\n",
    "    sauth_fpath = os.path.join(sauth_path, f\"{contract_meta.contract_id}_{contract_meta.lang}.pkl\")\n",
    "    plutil.safe_to_pickle(df, sauth_fpath)"
   ],
   "metadata": {
    "collapsed": false,
    "pycharm": {
     "name": "#%%\n"
    }
   }
  },
  {
   "cell_type": "code",
   "execution_count": 115,
   "outputs": [],
   "source": [
    "pdata_fpaths = glob.glob(os.path.join(pl.get_pdata_output_path(), \"*.pkl\"))\n",
    "num_to_process = len(pdata_fpaths)"
   ],
   "metadata": {
    "collapsed": false,
    "pycharm": {
     "name": "#%%\n"
    }
   }
  },
  {
   "cell_type": "code",
   "execution_count": 116,
   "outputs": [
    {
     "name": "stderr",
     "output_type": "stream",
     "text": [
      "0003405a: 100%|██████████| 20/20 [00:01<00:00, 15.17it/s]\n"
     ]
    }
   ],
   "source": [
    "pdata_iter = tqdm(stream_pdata(), total=num_to_process)\n",
    "for cur_pdata_df, contract_meta in pdata_iter:\n",
    "    contract_id = contract_meta.contract_id\n",
    "    pdata_iter.set_description(contract_id)\n",
    "    # Check if empty\n",
    "    if len(cur_pdata_df) == 0:\n",
    "        continue\n",
    "    # And process\n",
    "    compute_statement_auth(contract_meta, cur_pdata_df)"
   ],
   "metadata": {
    "collapsed": false,
    "pycharm": {
     "name": "#%%\n"
    }
   }
  },
  {
   "cell_type": "markdown",
   "source": [
    "### Step 4.2: Combine the individual batches to get one file per contract\n",
    "\n",
    "(Not needed if you're already doing contract-by-contract parsing!)"
   ],
   "metadata": {
    "collapsed": false,
    "pycharm": {
     "name": "#%% md\n"
    }
   }
  },
  {
   "cell_type": "code",
   "execution_count": 117,
   "outputs": [],
   "source": [
    "if batch_mode == \"batch\":\n",
    "    auth_path = pl.get_statement_auth_path()\n",
    "    fpath_data = plutil.sort_by_suffix(auth_path)\n",
    "    new_fname = plutil.remove_suffix(auth_path)\n",
    "    auth_df = pd.DataFrame()\n",
    "    for fnum, fpath in fpath_data:\n",
    "        cur_df = pd.read_pickle(fpath)\n",
    "        auth_df = pd.concat([auth_df,cur_df])\n",
    "    # Once combined, save a version without a numeric suffix\n",
    "    plutil.safe_to_pickle(auth_df, os.path.join(pl.get_output_path(), new_fname))"
   ],
   "metadata": {
    "collapsed": false,
    "pycharm": {
     "name": "#%%\n"
    }
   }
  },
  {
   "cell_type": "markdown",
   "source": [
    "## Step 5: Sum authority measures to contract level"
   ],
   "metadata": {
    "collapsed": false,
    "pycharm": {
     "name": "#%% md\n"
    }
   }
  },
  {
   "cell_type": "code",
   "execution_count": 118,
   "outputs": [],
   "source": [
    "def stream_sauth():\n",
    "    sauth_path = pl.get_sauth_output_path()\n",
    "    sauth_fpaths = glob.glob(os.path.join(sauth_path, \"*.pkl\"))\n",
    "    for cur_sauth_fpath in sauth_fpaths:\n",
    "        # Get info from the fpath itself\n",
    "        cur_fname = os.path.basename(cur_sauth_fpath)\n",
    "        fname_info = plutil.parse_fname(cur_fname)\n",
    "        contract_id = fname_info['id']\n",
    "        contract_lang = fname_info['lang']\n",
    "        cur_contract_meta = DocMeta(contract_id, contract_lang)\n",
    "        cur_sauth_df = plutil.safe_load_pickle(cur_sauth_fpath)\n",
    "        yield cur_sauth_df, cur_contract_meta"
   ],
   "metadata": {
    "collapsed": false,
    "pycharm": {
     "name": "#%%\n"
    }
   }
  },
  {
   "cell_type": "code",
   "execution_count": 119,
   "outputs": [],
   "source": [
    "def sum_auth_df(auth_df):\n",
    "    \"\"\"\n",
    "    Helper function which sums up a *single* (chunk) dataframe containing\n",
    "    auth measures, so that they can be combined into one final summed df by sum_auth()\n",
    "    \"\"\"\n",
    "    unique_ids = [\"contract_id\",\"subnorm\"]\n",
    "    grp_df = auth_df.groupby(unique_ids).sum()\n",
    "    grp_df.reset_index(inplace=True)\n",
    "    def conditional_measure(x,subnorm,measure):\n",
    "        # This function returns the actual measure if the subnorm of the row\n",
    "        # is equal to the subnorm argument, and 0.0 otherwise. This makes it\n",
    "        # so that when we \"sum\" up to just contract_id we get just the measure\n",
    "        # for the subnorm of interest\n",
    "        return x[measure] if x[\"subnorm\"]==subnorm else 0.0\n",
    "    subnorms_to_process = pl.subnorm_list\n",
    "    if \"other\" in subnorms_to_process:\n",
    "        subnorms_to_process.remove(\"other\")\n",
    "    for cur_measure in pl.AUTH_MEASURES:\n",
    "        pl.iprint(\"Making cols for \" + cur_measure)\n",
    "        for cur_subnorm in subnorms_to_process:\n",
    "            print(\"Making cols for \" + cur_measure + \" x \" + cur_subnorm)\n",
    "            new_col_name = cur_measure + \"_\" + cur_subnorm\n",
    "            grp_df[new_col_name] = grp_df.apply(conditional_measure,\n",
    "                                                axis=\"columns\",args=(cur_subnorm,cur_measure))\n",
    "    # And now just sum! It's not actually summing anything, just getting rid\n",
    "    # of all the 0.0 cells, for example permission_worker in a row with subnorm firm\n",
    "    sum_df = grp_df.groupby([\"contract_id\"]).sum()\n",
    "    sum_df.reset_index(inplace=True)\n",
    "    # Return it so these summed chunk dfs can be combined into a final summed df\n",
    "    # by sum_auth()\n",
    "    return sum_df"
   ],
   "metadata": {
    "collapsed": false,
    "pycharm": {
     "name": "#%%\n"
    }
   }
  },
  {
   "cell_type": "code",
   "execution_count": 120,
   "outputs": [],
   "source": [
    "sauth_dfs = []\n",
    "summed_dfs = []\n",
    "for cur_sauth_df, contract_meta in stream_sauth():\n",
    "    sauth_dfs.append(cur_sauth_df)\n",
    "    # Now we do a final sum to obtain the (non-chunked) contract-level dataset\n",
    "    cauth_df = cur_sauth_df.groupby([\"contract_id\"]).sum()\n",
    "    cauth_df.reset_index(inplace=True)\n",
    "    summed_dfs.append(cauth_df)\n",
    "# First, we combine the individual summed dfs\n",
    "full_df = pd.concat(summed_dfs)\n",
    "# And output the combined df\n",
    "pkl_fpath = pl.get_cauth_output_fpath(\"pkl\")\n",
    "plutil.safe_to_pickle(full_df, pkl_fpath)\n",
    "csv_fpath = pl.get_cauth_output_fpath(\"csv\")\n",
    "full_df.to_csv(csv_fpath, index=False)\n",
    "\n",
    "# Now we combine the *statement-level* dfs\n",
    "allsauth_df = pd.concat(sauth_dfs)\n",
    "# And output this combined df\n",
    "allsauth_pkl_fpath = pl.get_allsauth_output_fpath(\"pkl\")\n",
    "plutil.safe_to_pickle(allsauth_df, allsauth_pkl_fpath)\n",
    "allsauth_csv_fpath = pl.get_allsauth_output_fpath(\"csv\")\n",
    "plutil.safe_to_pickle(allsauth_df, allsauth_csv_fpath)"
   ],
   "metadata": {
    "collapsed": false,
    "pycharm": {
     "name": "#%%\n"
    }
   }
  },
  {
   "cell_type": "code",
   "execution_count": 121,
   "outputs": [
    {
     "data": {
      "text/plain": "  contract_id  article_num  sentence_num  statement_num   md  neg  passive  \\\n0    0000102a        12074         84760            696  429   57      343   \n0    0000103a         9017         54548            611  344   44      266   \n0    0000104a         4122         36906            810  398   53      294   \n0    0000105a         9289         24819            798  460   59      332   \n0    0000106a         8353         22334            759  445   62      321   \n0    0000201a         3837          4659            470  222   26      149   \n0    0000202a         3915          5104            367  229   30      154   \n0    0000203a         3550          5214            340  219   29      153   \n0    0000204a         3352          7065            441  240   28      167   \n0    0000205a         4029          5701            337  250   30      168   \n0    0000206a         4234          5786            373  251   33      174   \n0    0003303a        16567         81423            800  519   65      402   \n0    0003304a         4419         21270            527  333   29      270   \n0    0003305a            0            99              5    0    0        2   \n0    0003306a         5184         15872            487  341   30      271   \n0    0003307a         6793         15270            484  351   30      276   \n0    0003308a         8084         15801            474  355   31      282   \n0    0003402a        21384        263687            690  440   31      406   \n0    0003404a        12781         62331            845  529   67      413   \n0    0003405a        18372         82370            829  598   76      468   \n\n   strict_modal  count  permissive_modal  ...  constraint_verb  \\\n0           380    978                49  ...                1   \n0           299    810                45  ...                1   \n0           343    780                55  ...                1   \n0           396    869                64  ...                1   \n0           384    849                61  ...                1   \n0           193    397                29  ...                0   \n0           201    417                28  ...                0   \n0           190    402                29  ...                0   \n0           207    443                33  ...                0   \n0           217    434                33  ...                0   \n0           219    449                32  ...                0   \n0           490   1165                29  ...                0   \n0           306    668                27  ...                0   \n0             0     11                 0  ...                0   \n0           314    637                27  ...                0   \n0           324    651                27  ...                0   \n0           329    687                26  ...                0   \n0           379   1479                61  ...                0   \n0           459   1111                70  ...                0   \n0           523   1197                75  ...                0   \n\n   permission_verb  entitlement_verb  promise_verb  special_verb  active_verb  \\\n0                6                53            18            97          564   \n0                4                31            18            73          495   \n0                5                42            22            93          422   \n0                5                50            20            99          467   \n0                5                52            20           102          456   \n0                2                27             4            41          217   \n0                2                28             4            42          231   \n0                2                28             3            40          218   \n0                1                29             5            42          242   \n0                1                25             5            38          236   \n0                2                27             4            41          244   \n0                2                51            34           108          678   \n0                4                36            24            72          338   \n0                0                 0             0             0            9   \n0                4                35            26            75          305   \n0                4                38            25            78          312   \n0                4                38            28            79          339   \n0                5                56            34           112          983   \n0                4                49            35           111          614   \n0                6                51            40           124          638   \n\n   obligation  constraint  permission  entitlement  \n0         170          28          29          219  \n0         154          22          25          158  \n0         171          27          30          188  \n0         191          33          34          218  \n0         184          34          31          216  \n0          93          15          14          102  \n0          95          18          14          111  \n0          83          18          15          110  \n0          93          16          17          118  \n0         101          17          16          117  \n0         100          19          15          120  \n0         269          40          17          220  \n0         132          19          14          175  \n0           0           0           0            0  \n0         133          21          13          178  \n0         138          21          12          184  \n0         140          21          12          187  \n0         171          16          34          235  \n0         213          40          42          247  \n0         239          45          43          287  \n\n[20 rows x 21 columns]",
      "text/html": "<div>\n<style scoped>\n    .dataframe tbody tr th:only-of-type {\n        vertical-align: middle;\n    }\n\n    .dataframe tbody tr th {\n        vertical-align: top;\n    }\n\n    .dataframe thead th {\n        text-align: right;\n    }\n</style>\n<table border=\"1\" class=\"dataframe\">\n  <thead>\n    <tr style=\"text-align: right;\">\n      <th></th>\n      <th>contract_id</th>\n      <th>article_num</th>\n      <th>sentence_num</th>\n      <th>statement_num</th>\n      <th>md</th>\n      <th>neg</th>\n      <th>passive</th>\n      <th>strict_modal</th>\n      <th>count</th>\n      <th>permissive_modal</th>\n      <th>...</th>\n      <th>constraint_verb</th>\n      <th>permission_verb</th>\n      <th>entitlement_verb</th>\n      <th>promise_verb</th>\n      <th>special_verb</th>\n      <th>active_verb</th>\n      <th>obligation</th>\n      <th>constraint</th>\n      <th>permission</th>\n      <th>entitlement</th>\n    </tr>\n  </thead>\n  <tbody>\n    <tr>\n      <th>0</th>\n      <td>0000102a</td>\n      <td>12074</td>\n      <td>84760</td>\n      <td>696</td>\n      <td>429</td>\n      <td>57</td>\n      <td>343</td>\n      <td>380</td>\n      <td>978</td>\n      <td>49</td>\n      <td>...</td>\n      <td>1</td>\n      <td>6</td>\n      <td>53</td>\n      <td>18</td>\n      <td>97</td>\n      <td>564</td>\n      <td>170</td>\n      <td>28</td>\n      <td>29</td>\n      <td>219</td>\n    </tr>\n    <tr>\n      <th>0</th>\n      <td>0000103a</td>\n      <td>9017</td>\n      <td>54548</td>\n      <td>611</td>\n      <td>344</td>\n      <td>44</td>\n      <td>266</td>\n      <td>299</td>\n      <td>810</td>\n      <td>45</td>\n      <td>...</td>\n      <td>1</td>\n      <td>4</td>\n      <td>31</td>\n      <td>18</td>\n      <td>73</td>\n      <td>495</td>\n      <td>154</td>\n      <td>22</td>\n      <td>25</td>\n      <td>158</td>\n    </tr>\n    <tr>\n      <th>0</th>\n      <td>0000104a</td>\n      <td>4122</td>\n      <td>36906</td>\n      <td>810</td>\n      <td>398</td>\n      <td>53</td>\n      <td>294</td>\n      <td>343</td>\n      <td>780</td>\n      <td>55</td>\n      <td>...</td>\n      <td>1</td>\n      <td>5</td>\n      <td>42</td>\n      <td>22</td>\n      <td>93</td>\n      <td>422</td>\n      <td>171</td>\n      <td>27</td>\n      <td>30</td>\n      <td>188</td>\n    </tr>\n    <tr>\n      <th>0</th>\n      <td>0000105a</td>\n      <td>9289</td>\n      <td>24819</td>\n      <td>798</td>\n      <td>460</td>\n      <td>59</td>\n      <td>332</td>\n      <td>396</td>\n      <td>869</td>\n      <td>64</td>\n      <td>...</td>\n      <td>1</td>\n      <td>5</td>\n      <td>50</td>\n      <td>20</td>\n      <td>99</td>\n      <td>467</td>\n      <td>191</td>\n      <td>33</td>\n      <td>34</td>\n      <td>218</td>\n    </tr>\n    <tr>\n      <th>0</th>\n      <td>0000106a</td>\n      <td>8353</td>\n      <td>22334</td>\n      <td>759</td>\n      <td>445</td>\n      <td>62</td>\n      <td>321</td>\n      <td>384</td>\n      <td>849</td>\n      <td>61</td>\n      <td>...</td>\n      <td>1</td>\n      <td>5</td>\n      <td>52</td>\n      <td>20</td>\n      <td>102</td>\n      <td>456</td>\n      <td>184</td>\n      <td>34</td>\n      <td>31</td>\n      <td>216</td>\n    </tr>\n    <tr>\n      <th>0</th>\n      <td>0000201a</td>\n      <td>3837</td>\n      <td>4659</td>\n      <td>470</td>\n      <td>222</td>\n      <td>26</td>\n      <td>149</td>\n      <td>193</td>\n      <td>397</td>\n      <td>29</td>\n      <td>...</td>\n      <td>0</td>\n      <td>2</td>\n      <td>27</td>\n      <td>4</td>\n      <td>41</td>\n      <td>217</td>\n      <td>93</td>\n      <td>15</td>\n      <td>14</td>\n      <td>102</td>\n    </tr>\n    <tr>\n      <th>0</th>\n      <td>0000202a</td>\n      <td>3915</td>\n      <td>5104</td>\n      <td>367</td>\n      <td>229</td>\n      <td>30</td>\n      <td>154</td>\n      <td>201</td>\n      <td>417</td>\n      <td>28</td>\n      <td>...</td>\n      <td>0</td>\n      <td>2</td>\n      <td>28</td>\n      <td>4</td>\n      <td>42</td>\n      <td>231</td>\n      <td>95</td>\n      <td>18</td>\n      <td>14</td>\n      <td>111</td>\n    </tr>\n    <tr>\n      <th>0</th>\n      <td>0000203a</td>\n      <td>3550</td>\n      <td>5214</td>\n      <td>340</td>\n      <td>219</td>\n      <td>29</td>\n      <td>153</td>\n      <td>190</td>\n      <td>402</td>\n      <td>29</td>\n      <td>...</td>\n      <td>0</td>\n      <td>2</td>\n      <td>28</td>\n      <td>3</td>\n      <td>40</td>\n      <td>218</td>\n      <td>83</td>\n      <td>18</td>\n      <td>15</td>\n      <td>110</td>\n    </tr>\n    <tr>\n      <th>0</th>\n      <td>0000204a</td>\n      <td>3352</td>\n      <td>7065</td>\n      <td>441</td>\n      <td>240</td>\n      <td>28</td>\n      <td>167</td>\n      <td>207</td>\n      <td>443</td>\n      <td>33</td>\n      <td>...</td>\n      <td>0</td>\n      <td>1</td>\n      <td>29</td>\n      <td>5</td>\n      <td>42</td>\n      <td>242</td>\n      <td>93</td>\n      <td>16</td>\n      <td>17</td>\n      <td>118</td>\n    </tr>\n    <tr>\n      <th>0</th>\n      <td>0000205a</td>\n      <td>4029</td>\n      <td>5701</td>\n      <td>337</td>\n      <td>250</td>\n      <td>30</td>\n      <td>168</td>\n      <td>217</td>\n      <td>434</td>\n      <td>33</td>\n      <td>...</td>\n      <td>0</td>\n      <td>1</td>\n      <td>25</td>\n      <td>5</td>\n      <td>38</td>\n      <td>236</td>\n      <td>101</td>\n      <td>17</td>\n      <td>16</td>\n      <td>117</td>\n    </tr>\n    <tr>\n      <th>0</th>\n      <td>0000206a</td>\n      <td>4234</td>\n      <td>5786</td>\n      <td>373</td>\n      <td>251</td>\n      <td>33</td>\n      <td>174</td>\n      <td>219</td>\n      <td>449</td>\n      <td>32</td>\n      <td>...</td>\n      <td>0</td>\n      <td>2</td>\n      <td>27</td>\n      <td>4</td>\n      <td>41</td>\n      <td>244</td>\n      <td>100</td>\n      <td>19</td>\n      <td>15</td>\n      <td>120</td>\n    </tr>\n    <tr>\n      <th>0</th>\n      <td>0003303a</td>\n      <td>16567</td>\n      <td>81423</td>\n      <td>800</td>\n      <td>519</td>\n      <td>65</td>\n      <td>402</td>\n      <td>490</td>\n      <td>1165</td>\n      <td>29</td>\n      <td>...</td>\n      <td>0</td>\n      <td>2</td>\n      <td>51</td>\n      <td>34</td>\n      <td>108</td>\n      <td>678</td>\n      <td>269</td>\n      <td>40</td>\n      <td>17</td>\n      <td>220</td>\n    </tr>\n    <tr>\n      <th>0</th>\n      <td>0003304a</td>\n      <td>4419</td>\n      <td>21270</td>\n      <td>527</td>\n      <td>333</td>\n      <td>29</td>\n      <td>270</td>\n      <td>306</td>\n      <td>668</td>\n      <td>27</td>\n      <td>...</td>\n      <td>0</td>\n      <td>4</td>\n      <td>36</td>\n      <td>24</td>\n      <td>72</td>\n      <td>338</td>\n      <td>132</td>\n      <td>19</td>\n      <td>14</td>\n      <td>175</td>\n    </tr>\n    <tr>\n      <th>0</th>\n      <td>0003305a</td>\n      <td>0</td>\n      <td>99</td>\n      <td>5</td>\n      <td>0</td>\n      <td>0</td>\n      <td>2</td>\n      <td>0</td>\n      <td>11</td>\n      <td>0</td>\n      <td>...</td>\n      <td>0</td>\n      <td>0</td>\n      <td>0</td>\n      <td>0</td>\n      <td>0</td>\n      <td>9</td>\n      <td>0</td>\n      <td>0</td>\n      <td>0</td>\n      <td>0</td>\n    </tr>\n    <tr>\n      <th>0</th>\n      <td>0003306a</td>\n      <td>5184</td>\n      <td>15872</td>\n      <td>487</td>\n      <td>341</td>\n      <td>30</td>\n      <td>271</td>\n      <td>314</td>\n      <td>637</td>\n      <td>27</td>\n      <td>...</td>\n      <td>0</td>\n      <td>4</td>\n      <td>35</td>\n      <td>26</td>\n      <td>75</td>\n      <td>305</td>\n      <td>133</td>\n      <td>21</td>\n      <td>13</td>\n      <td>178</td>\n    </tr>\n    <tr>\n      <th>0</th>\n      <td>0003307a</td>\n      <td>6793</td>\n      <td>15270</td>\n      <td>484</td>\n      <td>351</td>\n      <td>30</td>\n      <td>276</td>\n      <td>324</td>\n      <td>651</td>\n      <td>27</td>\n      <td>...</td>\n      <td>0</td>\n      <td>4</td>\n      <td>38</td>\n      <td>25</td>\n      <td>78</td>\n      <td>312</td>\n      <td>138</td>\n      <td>21</td>\n      <td>12</td>\n      <td>184</td>\n    </tr>\n    <tr>\n      <th>0</th>\n      <td>0003308a</td>\n      <td>8084</td>\n      <td>15801</td>\n      <td>474</td>\n      <td>355</td>\n      <td>31</td>\n      <td>282</td>\n      <td>329</td>\n      <td>687</td>\n      <td>26</td>\n      <td>...</td>\n      <td>0</td>\n      <td>4</td>\n      <td>38</td>\n      <td>28</td>\n      <td>79</td>\n      <td>339</td>\n      <td>140</td>\n      <td>21</td>\n      <td>12</td>\n      <td>187</td>\n    </tr>\n    <tr>\n      <th>0</th>\n      <td>0003402a</td>\n      <td>21384</td>\n      <td>263687</td>\n      <td>690</td>\n      <td>440</td>\n      <td>31</td>\n      <td>406</td>\n      <td>379</td>\n      <td>1479</td>\n      <td>61</td>\n      <td>...</td>\n      <td>0</td>\n      <td>5</td>\n      <td>56</td>\n      <td>34</td>\n      <td>112</td>\n      <td>983</td>\n      <td>171</td>\n      <td>16</td>\n      <td>34</td>\n      <td>235</td>\n    </tr>\n    <tr>\n      <th>0</th>\n      <td>0003404a</td>\n      <td>12781</td>\n      <td>62331</td>\n      <td>845</td>\n      <td>529</td>\n      <td>67</td>\n      <td>413</td>\n      <td>459</td>\n      <td>1111</td>\n      <td>70</td>\n      <td>...</td>\n      <td>0</td>\n      <td>4</td>\n      <td>49</td>\n      <td>35</td>\n      <td>111</td>\n      <td>614</td>\n      <td>213</td>\n      <td>40</td>\n      <td>42</td>\n      <td>247</td>\n    </tr>\n    <tr>\n      <th>0</th>\n      <td>0003405a</td>\n      <td>18372</td>\n      <td>82370</td>\n      <td>829</td>\n      <td>598</td>\n      <td>76</td>\n      <td>468</td>\n      <td>523</td>\n      <td>1197</td>\n      <td>75</td>\n      <td>...</td>\n      <td>0</td>\n      <td>6</td>\n      <td>51</td>\n      <td>40</td>\n      <td>124</td>\n      <td>638</td>\n      <td>239</td>\n      <td>45</td>\n      <td>43</td>\n      <td>287</td>\n    </tr>\n  </tbody>\n</table>\n<p>20 rows × 21 columns</p>\n</div>"
     },
     "execution_count": 121,
     "metadata": {},
     "output_type": "execute_result"
    }
   ],
   "source": [
    "full_df"
   ],
   "metadata": {
    "collapsed": false,
    "pycharm": {
     "name": "#%%\n"
    }
   }
  },
  {
   "cell_type": "markdown",
   "source": [
    "## Step 6: Compute corpus-wide summary stats"
   ],
   "metadata": {
    "collapsed": false,
    "pycharm": {
     "name": "#%% md\n"
    }
   }
  },
  {
   "cell_type": "code",
   "execution_count": 122,
   "outputs": [],
   "source": [
    "import os\n",
    "import re\n",
    "\n",
    "import plutil"
   ],
   "metadata": {
    "collapsed": false,
    "pycharm": {
     "name": "#%%\n"
    }
   }
  },
  {
   "cell_type": "code",
   "execution_count": 123,
   "outputs": [],
   "source": [
    "# Change this list to change which conditionals get counted\n",
    "cond_list = [\n",
    "    \"if\",\"in_case\",\"where\",\"were\",\"had\",\"could\",\"unless\",\"should\",\n",
    "    \"as_long_as\",\"so_long_as\",\"provided_that\",\"otherwise\",\"supposing\"\n",
    "]\n",
    "\n",
    "# And this dict to change which LIWC categories get counted\n",
    "liwc_fpath_dict = {\n",
    "    \"number\": os.path.join(pl.get_liwc_path(), \"024-number.txt\"),\n",
    "    \"quant\": os.path.join(pl.get_liwc_path(), \"025-quant.txt\"),\n",
    "    \"certainty\": os.path.join(pl.get_liwc_path(), \"055-certain.txt\"),\n",
    "    \"tentative\": os.path.join(pl.get_liwc_path(), \"054-tentat.txt\")\n",
    "}"
   ],
   "metadata": {
    "collapsed": false,
    "pycharm": {
     "name": "#%%\n"
    }
   }
  },
  {
   "cell_type": "code",
   "execution_count": 124,
   "outputs": [
    {
     "name": "stdout",
     "output_type": "stream",
     "text": [
      "Summing to sentence level\n",
      "Computing num_words\n",
      "Finished computing num_words\n",
      "Finished counting conditionals\n",
      "Counting LIWC category: number\n",
      "Counting LIWC category: quant\n",
      "Counting LIWC category: certainty\n",
      "Counting LIWC category: tentative\n",
      "Finished LIWC counts\n",
      "Saving sumstats to C:/Dropbox/Labor_Contracts_Canada/./analysis/output/analysis/2022-12-jeff-python/06_sumstats.csv\n"
     ]
    }
   ],
   "source": [
    "# There are actually two different possible word counts: the first is just\n",
    "# the number of tokens in the word-tokenized plaintext. This, to me, is not\n",
    "# what we want, since (for example) if there are a bunch of spaces between\n",
    "# each letter this method will produce some huge number of tokens, even\n",
    "# though each token is actually just one letter. So I think what we want to\n",
    "# do instead is count the number of words in the full_sentence values for\n",
    "# each contract.\n",
    "#pl.iprint(\"compute_word_counts()\")\n",
    "auth_df = plutil.safe_load_pickle(pl.get_allsauth_output_fpath(\"pkl\"))\n",
    "# First, while it's at the statement level, compute counts\n",
    "vars_to_keep = [\"contract_id\",\"article_num\",\"sentence_num\",\"statement_num\",\n",
    "                \"full_sentence\",\"subnorm\"]\n",
    "wc_df = auth_df[vars_to_keep].copy()\n",
    "wc_df[\"statement_count\"] = 1\n",
    "# Subnorm-specific counts\n",
    "main_subnorms = pl.get_subnorm_list()\n",
    "if \"other\" in main_subnorms:\n",
    "    main_subnorms.remove(\"other\")\n",
    "for cur_subnorm in main_subnorms:\n",
    "    count_var = cur_subnorm + \"_count\"\n",
    "    wc_df[count_var] = wc_df[\"subnorm\"] == cur_subnorm\n",
    "    wc_df[count_var] = wc_df[count_var].astype(int)\n",
    "# Aggregate to sentence level (full_sentence is redundant for different\n",
    "# statements within the same sentence)\n",
    "wc_groups = wc_df.groupby(['contract_id','article_num','sentence_num'])\n",
    "pl.vprint(\"Summing to sentence level\")\n",
    "agg_dict = {'full_sentence':'first','statement_count':'sum','firm_count':'sum',\n",
    "            'manager_count':'sum','union_count':'sum','worker_count':'sum'}\n",
    "sent_df = wc_groups.agg(agg_dict)\n",
    "# slow :(\n",
    "#main_subnorms = pl.subnorm_list\n",
    "#main_subnorms.remove(\"other\")\n",
    "#main_subnorms = [\"firm\"]\n",
    "#for cur_subnorm in main_subnorms:\n",
    "#    cur_count_var = cur_subnorm + \"_count\"\n",
    "#    pl.iprint(\"Computing \" + str(cur_count_var))\n",
    "#    sent_df[cur_count_var] = auth_groups[\"subnorm\"].agg(lambda x:(x==cur_subnorm).sum())\n",
    "\n",
    "# Count the words. This regex method is faster than any other, according to\n",
    "# some stackoverflow post I'm too lazy to find again\n",
    "wordcount = re.compile(r'\\w+')\n",
    "def num_tokens(sent_str):\n",
    "    return len(wordcount.findall(sent_str))\n",
    "pl.vprint(\"Computing num_words\")\n",
    "sent_df[\"num_words\"] = sent_df[\"full_sentence\"].apply(num_tokens)\n",
    "pl.vprint(\"Finished computing num_words\")\n",
    "\n",
    "def count_conditionals(sent_str):\n",
    "    # Uncomment this line if you want to produce a *vector* of counts, i.e.,\n",
    "    # how many times each separate conditional appears in the string\n",
    "    #count_vec = cur_text.count(cur_cond.replace(\"_\",\" \")) for cur_cond in cond_list]\n",
    "    # Otherwise, we just sum all these individual counts up to get one final\n",
    "    # conditional count\n",
    "    return sum([sent_str.count(cur_cond.replace(\"_\",\" \")) for cur_cond in cond_list])\n",
    "sent_df[\"conditional_count\"] = sent_df[\"full_sentence\"].apply(count_conditionals)\n",
    "pl.vprint(\"Finished counting conditionals\")\n",
    "\n",
    "# LIWC counts\n",
    "def num_matches(reg_str, test_str):\n",
    "    # NaNs, by definition, have zero matches, but Python blows up if we don't\n",
    "    # manually specify...\n",
    "    if str(test_str) == \"nan\":\n",
    "        return 0\n",
    "    num_matches = len(re.findall(reg_str,test_str))\n",
    "    return num_matches\n",
    "# Loop over each category specified by LIWC_DICT in pipeline.py\n",
    "for cur_liwc_cat, cur_liwc_fpath in liwc_fpath_dict.items():\n",
    "    pl.vprint(\"Counting LIWC category: \" + str(cur_liwc_cat))\n",
    "    # Get the filename of the current LIWC file\n",
    "    cur_liwc_list = plutil.stopwords_from_file(cur_liwc_fpath)\n",
    "    cur_regex = plutil.list_to_regex(cur_liwc_list)\n",
    "    col_name = \"liwc_\" + str(cur_liwc_cat) + \"_count\"\n",
    "    sent_df[col_name] = sent_df.apply(lambda row: num_matches(cur_regex, row[\"full_sentence\"]), axis=1)\n",
    "\n",
    "#print(sent_df.head())\n",
    "#print(sent_df.columns)\n",
    "pl.vprint(\"Finished LIWC counts\")\n",
    "\n",
    "# And aggregate to contract level\n",
    "article_df = sent_df.groupby([\"contract_id\",\"article_num\"]).sum()\n",
    "contract_df = article_df.groupby([\"contract_id\"]).sum()\n",
    "contract_df.reset_index(inplace=True)\n",
    "\n",
    "output_csv_fpath = pl.get_sumstats_fpath(ext=\"csv\")\n",
    "pl.vprint(\"Saving sumstats to \" + output_csv_fpath)\n",
    "output_pkl_fpath = pl.get_sumstats_fpath(ext=\"pkl\")\n",
    "plutil.safe_to_csv(contract_df, output_csv_fpath, index=False)\n",
    "plutil.safe_to_pickle(contract_df, output_pkl_fpath)\n",
    "output_dta_fpath = pl.get_sumstats_fpath(ext=\"dta\")\n",
    "plutil.safe_to_stata(contract_df, output_dta_fpath)"
   ],
   "metadata": {
    "collapsed": false,
    "pycharm": {
     "name": "#%%\n"
    }
   }
  },
  {
   "cell_type": "markdown",
   "source": [
    "## Step 7: Merge the auth data with all other contract metadata"
   ],
   "metadata": {
    "collapsed": false,
    "pycharm": {
     "name": "#%% md\n"
    }
   }
  },
  {
   "cell_type": "code",
   "execution_count": 129,
   "outputs": [
    {
     "data": {
      "text/plain": "['firm', 'union', 'manager', 'worker']"
     },
     "execution_count": 129,
     "metadata": {},
     "output_type": "execute_result"
    }
   ],
   "source": [
    "main_subnorms"
   ],
   "metadata": {
    "collapsed": false,
    "pycharm": {
     "name": "#%%\n"
    }
   }
  },
  {
   "cell_type": "code",
   "execution_count": 136,
   "outputs": [
    {
     "name": "stdout",
     "output_type": "stream",
     "text": [
      "merge_text_meta()\n",
      "Loading authsums file C:/Dropbox/Labor_Contracts_Canada/./analysis/output/analysis/2022-12-jeff-python/05_summed_auth.pkl\n",
      "Loading meta file C:/Dropbox/Labor_Contracts_Canada/./data_text/canadian_meta.csv\n",
      "Saving C:/Dropbox/Labor_Contracts_Canada/./analysis/output/analysis/2022-12-jeff-python/07_merged_meta.pkl\n"
     ]
    },
    {
     "name": "stderr",
     "output_type": "stream",
     "text": [
      "C:\\Dropbox\\Labor_Contracts_Canada\\python_code_pipeline\\plutil.py:193: DtypeWarning: Columns (33) have mixed types. Specify dtype option on import or set low_memory=False.\n",
      "  return pd.read_csv(csv_fpath)\n"
     ]
    }
   ],
   "source": [
    "pl.vprint(\"merge_text_meta()\")\n",
    "# Merges the full contract-level dataset created by generateContractAuth()\n",
    "# with the metadata in <corpus_name>_meta.csv\n",
    "authsums_pkl_fpath = pl.get_cauth_output_fpath(ext=\"pkl\")\n",
    "pl.vprint(\"Loading authsums file \" + authsums_pkl_fpath)\n",
    "authsums_df = plutil.safe_load_pickle(authsums_pkl_fpath)\n",
    "\n",
    "meta_fpath = pl.get_meta_fpath()\n",
    "pl.vprint(\"Loading meta file \" + str(meta_fpath))\n",
    "meta_df = plutil.safe_load_csv(meta_fpath)\n",
    "# contract_id unique key\n",
    "#meta_df.set_index(plu.UID_CONTRACT,inplace=True)\n",
    "\n",
    "# Merge on contract_id\n",
    "merged_df = authsums_df.merge(meta_df, how='inner', on=['contract_id'])\n",
    "output_csv_fpath = pl.get_merged_meta_fpath(ext=\"csv\")\n",
    "output_pkl_fpath = pl.get_merged_meta_fpath(ext=\"pkl\")\n",
    "pl.vprint(\"Saving \" + output_pkl_fpath)\n",
    "# Make sure contract is unique id\n",
    "#merged_df.set_index(plu.UID_CONTRACT,inplace=True)\n",
    "plutil.safe_to_csv(merged_df, output_csv_fpath)\n",
    "plutil.safe_to_pickle(merged_df, output_pkl_fpath)"
   ],
   "metadata": {
    "collapsed": false,
    "pycharm": {
     "name": "#%%\n"
    }
   }
  },
  {
   "cell_type": "code",
   "execution_count": 137,
   "outputs": [
    {
     "data": {
      "text/plain": "   contract_id  article_num  sentence_num  statement_num   md  neg  passive  \\\n0     0000102a        12074         84760            696  429   57      343   \n1     0000103a         9017         54548            611  344   44      266   \n2     0000104a         4122         36906            810  398   53      294   \n3     0000105a         9289         24819            798  460   59      332   \n4     0000106a         8353         22334            759  445   62      321   \n5     0000201a         3837          4659            470  222   26      149   \n6     0000202a         3915          5104            367  229   30      154   \n7     0000203a         3550          5214            340  219   29      153   \n8     0000204a         3352          7065            441  240   28      167   \n9     0000205a         4029          5701            337  250   30      168   \n10    0000206a         4234          5786            373  251   33      174   \n11    0003303a        16567         81423            800  519   65      402   \n12    0003304a         4419         21270            527  333   29      270   \n13    0003305a            0            99              5    0    0        2   \n14    0003306a         5184         15872            487  341   30      271   \n15    0003307a         6793         15270            484  351   30      276   \n16    0003308a         8084         15801            474  355   31      282   \n17    0003402a        21384        263687            690  440   31      406   \n18    0003404a        12781         62331            845  529   67      413   \n19    0003405a        18372         82370            829  598   76      468   \n\n    strict_modal  count  permissive_modal  ...  wage_4th_inc  wage_5th_inc  \\\n0            380    978                49  ...      5.761590           NaN   \n1            299    810                45  ...           NaN           NaN   \n2            343    780                55  ...           NaN           NaN   \n3            396    869                64  ...      1.994885      2.006018   \n4            384    849                61  ...      2.018349      1.978417   \n5            193    397                29  ...           NaN           NaN   \n6            201    417                28  ...           NaN           NaN   \n7            190    402                29  ...           NaN           NaN   \n8            207    443                33  ...           NaN           NaN   \n9            217    434                33  ...           NaN           NaN   \n10           219    449                32  ...           NaN           NaN   \n11           490   1165                29  ...           NaN           NaN   \n12           306    668                27  ...           NaN           NaN   \n13             0     11                 0  ...           NaN           NaN   \n14           314    637                27  ...           NaN           NaN   \n15           324    651                27  ...      2.340426           NaN   \n16           329    687                26  ...      2.517986      0.000000   \n17           379   1479                61  ...           NaN           NaN   \n18           459   1111                70  ...           NaN           NaN   \n19           523   1197                75  ...           NaN           NaN   \n\n    wage_6th_inc  wage_7th_inc  wage_8th_inc  wage_9th_inc  wage_10th_inc  \\\n0            NaN           NaN           NaN           NaN            NaN   \n1            NaN           NaN           NaN           NaN            NaN   \n2            NaN           NaN           NaN           NaN            NaN   \n3            NaN           NaN           NaN           NaN            NaN   \n4            NaN           NaN           NaN           NaN            NaN   \n5            NaN           NaN           NaN           NaN            NaN   \n6            NaN           NaN           NaN           NaN            NaN   \n7            NaN           NaN           NaN           NaN            NaN   \n8            NaN           NaN           NaN           NaN            NaN   \n9            NaN           NaN           NaN           NaN            NaN   \n10           NaN           NaN           NaN           NaN            NaN   \n11           NaN           NaN           NaN           NaN            NaN   \n12           NaN           NaN           NaN           NaN            NaN   \n13           NaN           NaN           NaN           NaN            NaN   \n14           NaN           NaN           NaN           NaN            NaN   \n15           NaN           NaN           NaN           NaN            NaN   \n16           NaN           NaN           NaN           NaN            NaN   \n17           NaN           NaN           NaN           NaN            NaN   \n18           NaN           NaN           NaN           NaN            NaN   \n19           NaN           NaN           NaN           NaN            NaN   \n\n    language  union_code  union_desc_eng  \n0        eng         NaN             NaN  \n1        eng         NaN             NaN  \n2        eng         NaN             NaN  \n3        eng         NaN             NaN  \n4        eng         NaN             NaN  \n5        eng         NaN             NaN  \n6        eng         NaN             NaN  \n7        eng         NaN             NaN  \n8        eng         NaN             NaN  \n9        eng         NaN             NaN  \n10       eng         NaN             NaN  \n11       eng         NaN             NaN  \n12       eng         NaN             NaN  \n13       eng         NaN             NaN  \n14       eng         NaN             NaN  \n15       eng         NaN             NaN  \n16       eng         NaN             NaN  \n17       eng         NaN             NaN  \n18       eng         NaN             NaN  \n19       eng         NaN             NaN  \n\n[20 rows x 54 columns]",
      "text/html": "<div>\n<style scoped>\n    .dataframe tbody tr th:only-of-type {\n        vertical-align: middle;\n    }\n\n    .dataframe tbody tr th {\n        vertical-align: top;\n    }\n\n    .dataframe thead th {\n        text-align: right;\n    }\n</style>\n<table border=\"1\" class=\"dataframe\">\n  <thead>\n    <tr style=\"text-align: right;\">\n      <th></th>\n      <th>contract_id</th>\n      <th>article_num</th>\n      <th>sentence_num</th>\n      <th>statement_num</th>\n      <th>md</th>\n      <th>neg</th>\n      <th>passive</th>\n      <th>strict_modal</th>\n      <th>count</th>\n      <th>permissive_modal</th>\n      <th>...</th>\n      <th>wage_4th_inc</th>\n      <th>wage_5th_inc</th>\n      <th>wage_6th_inc</th>\n      <th>wage_7th_inc</th>\n      <th>wage_8th_inc</th>\n      <th>wage_9th_inc</th>\n      <th>wage_10th_inc</th>\n      <th>language</th>\n      <th>union_code</th>\n      <th>union_desc_eng</th>\n    </tr>\n  </thead>\n  <tbody>\n    <tr>\n      <th>0</th>\n      <td>0000102a</td>\n      <td>12074</td>\n      <td>84760</td>\n      <td>696</td>\n      <td>429</td>\n      <td>57</td>\n      <td>343</td>\n      <td>380</td>\n      <td>978</td>\n      <td>49</td>\n      <td>...</td>\n      <td>5.761590</td>\n      <td>NaN</td>\n      <td>NaN</td>\n      <td>NaN</td>\n      <td>NaN</td>\n      <td>NaN</td>\n      <td>NaN</td>\n      <td>eng</td>\n      <td>NaN</td>\n      <td>NaN</td>\n    </tr>\n    <tr>\n      <th>1</th>\n      <td>0000103a</td>\n      <td>9017</td>\n      <td>54548</td>\n      <td>611</td>\n      <td>344</td>\n      <td>44</td>\n      <td>266</td>\n      <td>299</td>\n      <td>810</td>\n      <td>45</td>\n      <td>...</td>\n      <td>NaN</td>\n      <td>NaN</td>\n      <td>NaN</td>\n      <td>NaN</td>\n      <td>NaN</td>\n      <td>NaN</td>\n      <td>NaN</td>\n      <td>eng</td>\n      <td>NaN</td>\n      <td>NaN</td>\n    </tr>\n    <tr>\n      <th>2</th>\n      <td>0000104a</td>\n      <td>4122</td>\n      <td>36906</td>\n      <td>810</td>\n      <td>398</td>\n      <td>53</td>\n      <td>294</td>\n      <td>343</td>\n      <td>780</td>\n      <td>55</td>\n      <td>...</td>\n      <td>NaN</td>\n      <td>NaN</td>\n      <td>NaN</td>\n      <td>NaN</td>\n      <td>NaN</td>\n      <td>NaN</td>\n      <td>NaN</td>\n      <td>eng</td>\n      <td>NaN</td>\n      <td>NaN</td>\n    </tr>\n    <tr>\n      <th>3</th>\n      <td>0000105a</td>\n      <td>9289</td>\n      <td>24819</td>\n      <td>798</td>\n      <td>460</td>\n      <td>59</td>\n      <td>332</td>\n      <td>396</td>\n      <td>869</td>\n      <td>64</td>\n      <td>...</td>\n      <td>1.994885</td>\n      <td>2.006018</td>\n      <td>NaN</td>\n      <td>NaN</td>\n      <td>NaN</td>\n      <td>NaN</td>\n      <td>NaN</td>\n      <td>eng</td>\n      <td>NaN</td>\n      <td>NaN</td>\n    </tr>\n    <tr>\n      <th>4</th>\n      <td>0000106a</td>\n      <td>8353</td>\n      <td>22334</td>\n      <td>759</td>\n      <td>445</td>\n      <td>62</td>\n      <td>321</td>\n      <td>384</td>\n      <td>849</td>\n      <td>61</td>\n      <td>...</td>\n      <td>2.018349</td>\n      <td>1.978417</td>\n      <td>NaN</td>\n      <td>NaN</td>\n      <td>NaN</td>\n      <td>NaN</td>\n      <td>NaN</td>\n      <td>eng</td>\n      <td>NaN</td>\n      <td>NaN</td>\n    </tr>\n    <tr>\n      <th>5</th>\n      <td>0000201a</td>\n      <td>3837</td>\n      <td>4659</td>\n      <td>470</td>\n      <td>222</td>\n      <td>26</td>\n      <td>149</td>\n      <td>193</td>\n      <td>397</td>\n      <td>29</td>\n      <td>...</td>\n      <td>NaN</td>\n      <td>NaN</td>\n      <td>NaN</td>\n      <td>NaN</td>\n      <td>NaN</td>\n      <td>NaN</td>\n      <td>NaN</td>\n      <td>eng</td>\n      <td>NaN</td>\n      <td>NaN</td>\n    </tr>\n    <tr>\n      <th>6</th>\n      <td>0000202a</td>\n      <td>3915</td>\n      <td>5104</td>\n      <td>367</td>\n      <td>229</td>\n      <td>30</td>\n      <td>154</td>\n      <td>201</td>\n      <td>417</td>\n      <td>28</td>\n      <td>...</td>\n      <td>NaN</td>\n      <td>NaN</td>\n      <td>NaN</td>\n      <td>NaN</td>\n      <td>NaN</td>\n      <td>NaN</td>\n      <td>NaN</td>\n      <td>eng</td>\n      <td>NaN</td>\n      <td>NaN</td>\n    </tr>\n    <tr>\n      <th>7</th>\n      <td>0000203a</td>\n      <td>3550</td>\n      <td>5214</td>\n      <td>340</td>\n      <td>219</td>\n      <td>29</td>\n      <td>153</td>\n      <td>190</td>\n      <td>402</td>\n      <td>29</td>\n      <td>...</td>\n      <td>NaN</td>\n      <td>NaN</td>\n      <td>NaN</td>\n      <td>NaN</td>\n      <td>NaN</td>\n      <td>NaN</td>\n      <td>NaN</td>\n      <td>eng</td>\n      <td>NaN</td>\n      <td>NaN</td>\n    </tr>\n    <tr>\n      <th>8</th>\n      <td>0000204a</td>\n      <td>3352</td>\n      <td>7065</td>\n      <td>441</td>\n      <td>240</td>\n      <td>28</td>\n      <td>167</td>\n      <td>207</td>\n      <td>443</td>\n      <td>33</td>\n      <td>...</td>\n      <td>NaN</td>\n      <td>NaN</td>\n      <td>NaN</td>\n      <td>NaN</td>\n      <td>NaN</td>\n      <td>NaN</td>\n      <td>NaN</td>\n      <td>eng</td>\n      <td>NaN</td>\n      <td>NaN</td>\n    </tr>\n    <tr>\n      <th>9</th>\n      <td>0000205a</td>\n      <td>4029</td>\n      <td>5701</td>\n      <td>337</td>\n      <td>250</td>\n      <td>30</td>\n      <td>168</td>\n      <td>217</td>\n      <td>434</td>\n      <td>33</td>\n      <td>...</td>\n      <td>NaN</td>\n      <td>NaN</td>\n      <td>NaN</td>\n      <td>NaN</td>\n      <td>NaN</td>\n      <td>NaN</td>\n      <td>NaN</td>\n      <td>eng</td>\n      <td>NaN</td>\n      <td>NaN</td>\n    </tr>\n    <tr>\n      <th>10</th>\n      <td>0000206a</td>\n      <td>4234</td>\n      <td>5786</td>\n      <td>373</td>\n      <td>251</td>\n      <td>33</td>\n      <td>174</td>\n      <td>219</td>\n      <td>449</td>\n      <td>32</td>\n      <td>...</td>\n      <td>NaN</td>\n      <td>NaN</td>\n      <td>NaN</td>\n      <td>NaN</td>\n      <td>NaN</td>\n      <td>NaN</td>\n      <td>NaN</td>\n      <td>eng</td>\n      <td>NaN</td>\n      <td>NaN</td>\n    </tr>\n    <tr>\n      <th>11</th>\n      <td>0003303a</td>\n      <td>16567</td>\n      <td>81423</td>\n      <td>800</td>\n      <td>519</td>\n      <td>65</td>\n      <td>402</td>\n      <td>490</td>\n      <td>1165</td>\n      <td>29</td>\n      <td>...</td>\n      <td>NaN</td>\n      <td>NaN</td>\n      <td>NaN</td>\n      <td>NaN</td>\n      <td>NaN</td>\n      <td>NaN</td>\n      <td>NaN</td>\n      <td>eng</td>\n      <td>NaN</td>\n      <td>NaN</td>\n    </tr>\n    <tr>\n      <th>12</th>\n      <td>0003304a</td>\n      <td>4419</td>\n      <td>21270</td>\n      <td>527</td>\n      <td>333</td>\n      <td>29</td>\n      <td>270</td>\n      <td>306</td>\n      <td>668</td>\n      <td>27</td>\n      <td>...</td>\n      <td>NaN</td>\n      <td>NaN</td>\n      <td>NaN</td>\n      <td>NaN</td>\n      <td>NaN</td>\n      <td>NaN</td>\n      <td>NaN</td>\n      <td>eng</td>\n      <td>NaN</td>\n      <td>NaN</td>\n    </tr>\n    <tr>\n      <th>13</th>\n      <td>0003305a</td>\n      <td>0</td>\n      <td>99</td>\n      <td>5</td>\n      <td>0</td>\n      <td>0</td>\n      <td>2</td>\n      <td>0</td>\n      <td>11</td>\n      <td>0</td>\n      <td>...</td>\n      <td>NaN</td>\n      <td>NaN</td>\n      <td>NaN</td>\n      <td>NaN</td>\n      <td>NaN</td>\n      <td>NaN</td>\n      <td>NaN</td>\n      <td>eng</td>\n      <td>NaN</td>\n      <td>NaN</td>\n    </tr>\n    <tr>\n      <th>14</th>\n      <td>0003306a</td>\n      <td>5184</td>\n      <td>15872</td>\n      <td>487</td>\n      <td>341</td>\n      <td>30</td>\n      <td>271</td>\n      <td>314</td>\n      <td>637</td>\n      <td>27</td>\n      <td>...</td>\n      <td>NaN</td>\n      <td>NaN</td>\n      <td>NaN</td>\n      <td>NaN</td>\n      <td>NaN</td>\n      <td>NaN</td>\n      <td>NaN</td>\n      <td>eng</td>\n      <td>NaN</td>\n      <td>NaN</td>\n    </tr>\n    <tr>\n      <th>15</th>\n      <td>0003307a</td>\n      <td>6793</td>\n      <td>15270</td>\n      <td>484</td>\n      <td>351</td>\n      <td>30</td>\n      <td>276</td>\n      <td>324</td>\n      <td>651</td>\n      <td>27</td>\n      <td>...</td>\n      <td>2.340426</td>\n      <td>NaN</td>\n      <td>NaN</td>\n      <td>NaN</td>\n      <td>NaN</td>\n      <td>NaN</td>\n      <td>NaN</td>\n      <td>eng</td>\n      <td>NaN</td>\n      <td>NaN</td>\n    </tr>\n    <tr>\n      <th>16</th>\n      <td>0003308a</td>\n      <td>8084</td>\n      <td>15801</td>\n      <td>474</td>\n      <td>355</td>\n      <td>31</td>\n      <td>282</td>\n      <td>329</td>\n      <td>687</td>\n      <td>26</td>\n      <td>...</td>\n      <td>2.517986</td>\n      <td>0.000000</td>\n      <td>NaN</td>\n      <td>NaN</td>\n      <td>NaN</td>\n      <td>NaN</td>\n      <td>NaN</td>\n      <td>eng</td>\n      <td>NaN</td>\n      <td>NaN</td>\n    </tr>\n    <tr>\n      <th>17</th>\n      <td>0003402a</td>\n      <td>21384</td>\n      <td>263687</td>\n      <td>690</td>\n      <td>440</td>\n      <td>31</td>\n      <td>406</td>\n      <td>379</td>\n      <td>1479</td>\n      <td>61</td>\n      <td>...</td>\n      <td>NaN</td>\n      <td>NaN</td>\n      <td>NaN</td>\n      <td>NaN</td>\n      <td>NaN</td>\n      <td>NaN</td>\n      <td>NaN</td>\n      <td>eng</td>\n      <td>NaN</td>\n      <td>NaN</td>\n    </tr>\n    <tr>\n      <th>18</th>\n      <td>0003404a</td>\n      <td>12781</td>\n      <td>62331</td>\n      <td>845</td>\n      <td>529</td>\n      <td>67</td>\n      <td>413</td>\n      <td>459</td>\n      <td>1111</td>\n      <td>70</td>\n      <td>...</td>\n      <td>NaN</td>\n      <td>NaN</td>\n      <td>NaN</td>\n      <td>NaN</td>\n      <td>NaN</td>\n      <td>NaN</td>\n      <td>NaN</td>\n      <td>eng</td>\n      <td>NaN</td>\n      <td>NaN</td>\n    </tr>\n    <tr>\n      <th>19</th>\n      <td>0003405a</td>\n      <td>18372</td>\n      <td>82370</td>\n      <td>829</td>\n      <td>598</td>\n      <td>76</td>\n      <td>468</td>\n      <td>523</td>\n      <td>1197</td>\n      <td>75</td>\n      <td>...</td>\n      <td>NaN</td>\n      <td>NaN</td>\n      <td>NaN</td>\n      <td>NaN</td>\n      <td>NaN</td>\n      <td>NaN</td>\n      <td>NaN</td>\n      <td>eng</td>\n      <td>NaN</td>\n      <td>NaN</td>\n    </tr>\n  </tbody>\n</table>\n<p>20 rows × 54 columns</p>\n</div>"
     },
     "execution_count": 137,
     "metadata": {},
     "output_type": "execute_result"
    }
   ],
   "source": [
    "merged_df"
   ],
   "metadata": {
    "collapsed": false,
    "pycharm": {
     "name": "#%%\n"
    }
   }
  },
  {
   "cell_type": "code",
   "execution_count": null,
   "outputs": [],
   "source": [],
   "metadata": {
    "collapsed": false,
    "pycharm": {
     "name": "#%%\n"
    }
   }
  }
 ],
 "metadata": {
  "kernelspec": {
   "display_name": "Python 3",
   "language": "python",
   "name": "python3"
  },
  "language_info": {
   "codemirror_mode": {
    "name": "ipython",
    "version": 3
   },
   "file_extension": ".py",
   "mimetype": "text/x-python",
   "name": "python",
   "nbconvert_exporter": "python",
   "pygments_lexer": "ipython3",
   "version": "3.7.3"
  }
 },
 "nbformat": 4,
 "nbformat_minor": 4
}